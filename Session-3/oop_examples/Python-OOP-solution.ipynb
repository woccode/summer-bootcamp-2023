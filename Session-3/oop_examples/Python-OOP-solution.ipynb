{
 "cells": [
  {
   "cell_type": "markdown",
   "id": "051e795b",
   "metadata": {},
   "source": [
    "# Writing your own Classes in Python\n",
    "\n",
    "OOP = \"Object Oriented Programming\"\n",
    "\n",
    "In OOP, a **class** describes a particular object type, with its definitions and rules of operation. An **object** is an *instance* of a class. That is, when you invoke the class, you create an object of that class type.\n",
    "\n",
    "For example: `str` is a Python class, whereas \"abc\" is a `str` type object. Below, I instantiate the string \"abc\" and check what type of object it is using the built-in Python function, `type`."
   ]
  },
  {
   "cell_type": "code",
   "execution_count": null,
   "id": "bae4330f",
   "metadata": {},
   "outputs": [],
   "source": [
    "type('abc')"
   ]
  },
  {
   "cell_type": "markdown",
   "id": "93ea553b",
   "metadata": {},
   "source": [
    "As was demonstrated in the **Python Fundamentals** notebook (Session 2), the `str` (string) class has specific definitions and rules for engaging with syntax."
   ]
  },
  {
   "cell_type": "code",
   "execution_count": null,
   "id": "ddc757fb",
   "metadata": {},
   "outputs": [],
   "source": [
    "my_string = \"abc\"\n",
    "print(my_string * 2) # print a string that is the original string repeated 2x\n",
    "print(my_string[0]) # print the first letter in the string"
   ]
  },
  {
   "cell_type": "markdown",
   "id": "ae47ec08",
   "metadata": {},
   "source": [
    "**Typical classes have:**\n",
    "\n",
    "* Attributes -- stored static quantities\n",
    "* Methods -- function definitions accessible only by instantiating an object of that class"
   ]
  },
  {
   "cell_type": "code",
   "execution_count": null,
   "id": "7caeebee",
   "metadata": {},
   "outputs": [],
   "source": [
    "# Modules I'll use in this notebook\n",
    "\n",
    "import numpy as np\n",
    "import matplotlib.pyplot as plt\n",
    "\n",
    "from astropy.io import ascii"
   ]
  },
  {
   "cell_type": "markdown",
   "id": "e024a38e",
   "metadata": {},
   "source": [
    "# 1. Write a generic light curve class\n",
    "\n",
    "Many scientific disciplines work with time series data. Astronomical data typically comes in the form of light, so our typical time series data are usually \"light curves\" -- measurements of a star's brightness or photon count rates over time.\n",
    "\n",
    "In this example, I'll write a generic LightCurve\\* class to hold the light curve dataset all in one place. The light curve data itself will be the **attributes**. I will define a plotting **method** that plots the light curve data.\n",
    "\n",
    "\\*It is common practice to define Python classes with each word capitalized and no underscore notation. This makes it clear that you are accessing a class definition, not a function or variable (which are typically all lower-case and with underscores separating words).\n",
    "\n",
    "All class definitions start with the `__init__` method. This the \"constructor\" method that initializes the object. Note that all methods in the class include `self` as the first variable in the function definition. This is required so that the object has a variable name for referencing its own attributes."
   ]
  },
  {
   "cell_type": "code",
   "execution_count": null,
   "id": "00144d64",
   "metadata": {},
   "outputs": [],
   "source": [
    "class LightCurve(object):\n",
    "    \"\"\"\n",
    "    A generic light curve\n",
    "    \n",
    "    Attributes\n",
    "    ----------\n",
    "    \n",
    "    time : numpy array\n",
    "    \n",
    "    value : numpy array, values correspeonding to each time data-point\n",
    "    \n",
    "    error : numpy array, error on the values (default: None)\n",
    "    \n",
    "    Example Usage\n",
    "    -------------\n",
    "    >>> x = np.arange(10)\n",
    "    >>> y = np.random.normal(10)\n",
    "    >>> LightCurve(x, y)\n",
    "    \"\"\"\n",
    "    def __init__(self, time, value, error=None):\n",
    "        self.time = time\n",
    "        self.value = value\n",
    "        self.error = error\n",
    "    \n",
    "    def plot(self, ax, **kwargs):\n",
    "        \"\"\"\n",
    "        Plot the light curve. Only plots noticed values.\n",
    "        \n",
    "        Inputs\n",
    "        ------\n",
    "\n",
    "        ax : matplotlib axes object, where the plot will go\n",
    "        \n",
    "        **kwargs are passed to matplotlib plotting functions\n",
    "        \"\"\"\n",
    "        if self.error is not None:\n",
    "            ax.errorbar(self.time, self.value, \n",
    "                        yerr=self.error, **kwargs)\n",
    "        else:\n",
    "            ax.scatter(self.time, self.value, **kwargs)"
   ]
  },
  {
   "cell_type": "markdown",
   "id": "ea1a1acd",
   "metadata": {},
   "source": [
    "In the example below, I create fake light curve data set using the numpy random numbers package. I use the fake data to instatiate a LightCurve object. Then, I plot that data using the `LightCurve.plot` method."
   ]
  },
  {
   "cell_type": "code",
   "execution_count": null,
   "id": "3a1ff2dc",
   "metadata": {},
   "outputs": [],
   "source": [
    "# 1000 uniformly spaced data points between time=0 and 100\n",
    "my_x = np.linspace(0, 100, 1000) \n",
    "\n",
    "# Gaussian distribution of values with mean of 1 and std-dev of 0.3\n",
    "my_y = np.random.normal(1.0, 0.3, size=len(my_x)) \n",
    "\n",
    "# Instantiate the LightCurve object\n",
    "my_lc = LightCurve(my_x, my_y)\n",
    "\n",
    "ax = plt.subplot(111) # initiliaze matplotlib axes object\n",
    "my_lc.plot(ax) # plot my fake light curve data\n",
    "\n",
    "# No plot is complete without axes labels\n",
    "ax.set_xlabel('time')\n",
    "ax.set_ylabel('phot / s')"
   ]
  },
  {
   "cell_type": "code",
   "execution_count": null,
   "id": "8204a2fc",
   "metadata": {},
   "outputs": [],
   "source": [
    "# Think about showing this\n",
    "dir(my_lc)"
   ]
  },
  {
   "cell_type": "markdown",
   "id": "3700c0f3",
   "metadata": {},
   "source": [
    "## 1.2 Write a method to filter time\n",
    "\n",
    "Let's think of a generic task we typically might apply to time series data, such as, filtering it with time. In the case below, I  introduce a new attribute to my `LightCurve` class, called `notice`. This will be a boolean array that specifies which time series data I care about. \n",
    "\n",
    "Then I modify the `plot` method so that only noticed data is plotted."
   ]
  },
  {
   "cell_type": "code",
   "execution_count": null,
   "id": "2327b052",
   "metadata": {},
   "outputs": [],
   "source": [
    "class LightCurve(object):\n",
    "    \"\"\"\n",
    "    A generic light curve\n",
    "    \n",
    "    Attributes\n",
    "    ----------\n",
    "    \n",
    "    time : numpy array\n",
    "    \n",
    "    value : numpy array, values correspeonding to each time data-point\n",
    "    \n",
    "    error : numpy array, error on the values (default: None)\n",
    "    \n",
    "    notice : bool array, describes which time values to keep for analysis\n",
    "    \n",
    "    >>> x = np.arange(10)\n",
    "    >>> y = np.random.normal(10)\n",
    "    >>> LightCurve(x, y)\n",
    "    \"\"\"\n",
    "    def __init__(self, time, value, error=None):\n",
    "        self.time = time\n",
    "        self.value = value\n",
    "        self.error = error\n",
    "        self.notice = np.ones_like(value, dtype='bool')\n",
    "    \n",
    "    def notice_time(self, tmin, tmax):\n",
    "        \"\"\"\n",
    "        Modify the `notice` attribute to filter by time.\n",
    "        \n",
    "        Inputs\n",
    "        ------\n",
    "        \n",
    "        tmin : float, lower end of chosen time interval\n",
    "        \n",
    "        tmax : float, upper end of chosen time interval\n",
    "         \"\"\"\n",
    "        self.notice = (self.time >= tmin) & (self.time <= tmax)\n",
    "    \n",
    "    def reset_notice(self):\n",
    "        \"\"\"\n",
    "        Remove any previous filters so that the full light curve \n",
    "        dataset is included in the `notice` boolean array.\n",
    "        \n",
    "        Inputs\n",
    "        ------\n",
    "        None\n",
    "        \"\"\"\n",
    "        self.notice = np.ones_like(self.value, dtype='bool')\n",
    "    \n",
    "    def plot(self, ax, **kwargs):\n",
    "        \"\"\"\n",
    "        Plot the light curve. Only plots noticed values.\n",
    "        \n",
    "        Inputs\n",
    "        ------\n",
    "\n",
    "        ax : matplotlib axes object, where the plot will go\n",
    "        \n",
    "        **kwargs are passed to matplotlib plotting functions\n",
    "        \"\"\"\n",
    "        if self.error is not None:\n",
    "            ax.errorbar(self.time[self.notice], self.value[self.notice], \n",
    "                        yerr=self.error[self.notice], **kwargs)\n",
    "        else:\n",
    "            ax.scatter(self.time[self.notice], self.value[self.notice], **kwargs)"
   ]
  },
  {
   "cell_type": "markdown",
   "id": "4f98cce0",
   "metadata": {},
   "source": [
    "Let's try it out!"
   ]
  },
  {
   "cell_type": "code",
   "execution_count": null,
   "id": "232a12da",
   "metadata": {},
   "outputs": [],
   "source": [
    "# First, I have to remake the fake dataset so I can make a LightCurve object \n",
    "# that has the new functionalities defined above\n",
    "my_x = np.linspace(0, 100, 1000) \n",
    "my_y = np.random.normal(1.0, 0.3, size=len(my_x)) \n",
    "my_lc = LightCurve(my_x, my_y)\n",
    "\n",
    "ax = plt.subplot(111) \n",
    "\n",
    "# plot the original dataset\n",
    "my_lc.plot(ax, color='0.5', label='original dataset')\n",
    "\n",
    "# filter so that we only notice datapoints between t=20 and 60\n",
    "my_lc.notice_time(20, 60)\n",
    "\n",
    "# now plot the filtered data only\n",
    "my_lc.plot(ax, color='r', label='20 <= t <= 60')\n",
    "\n",
    "ax.legend(loc='upper right')"
   ]
  },
  {
   "cell_type": "markdown",
   "id": "7a0972ef",
   "metadata": {},
   "source": [
    "### Exercises\n",
    "\n",
    "* How would you calculate the mean and standard deviation of the entire dataset? How would you calculate those values for the \"noticed\" time values only?\n",
    "\n",
    "* Challenge: What are some ways you can make the `notice_time` method more flexible? For example, what if you wanted to filter out $t < 20$?\n",
    "\n",
    "* What are other types of analyses one might perform with light curves? How would you add that to the LightCurve class?"
   ]
  },
  {
   "cell_type": "markdown",
   "id": "dcd2d4f6",
   "metadata": {},
   "source": [
    "## 1.3 Challenge: Write an outlier clipping algorithm\n",
    "\n",
    "Sometimes there are errors in measurement (e.g., instrument anomalies or human error) that lead to a few data points to appear significantly different from the broad trends. A reasonably suspicious data point is called an \"outlier\". Outliers are sometimes flagged for removal from the final scientific analysis.\n",
    "\n",
    "One method for investigating outliers is to look for data points that are significantly far from the average value in the data set. With a light curve, that means examining the values on the y-axis. We can use numpy to calculate the mean and standard deviation (sigma) of the light curve values, then search for data points that are > N-sigma away from the mean. Removing outliers via this method is referred to as \"sigma-clipping\".\n",
    "\n",
    "Write a sigma-clipping function that removes data points that are > N sigma values away from the mean, where `sigma_threshold` represents the value for N in the inequality."
   ]
  },
  {
   "cell_type": "code",
   "execution_count": null,
   "id": "b9b5a3de",
   "metadata": {},
   "outputs": [],
   "source": [
    "class LightCurve(object):\n",
    "    \"\"\"\n",
    "    A generic light curve\n",
    "    \n",
    "    Attributes\n",
    "    ----------\n",
    "    \n",
    "    time : numpy array\n",
    "    \n",
    "    value : numpy array, values correspeonding to each time data-point\n",
    "    \n",
    "    error : numpy array, error on the values (default: None)\n",
    "    \n",
    "    notice : bool array, describes which time values to keep for analysis\n",
    "    \n",
    "    Example Usage\n",
    "    -------------\n",
    "    >>> x = np.arange(10)\n",
    "    >>> y = np.random.normal(10)\n",
    "    >>> LightCurve(x, y)\n",
    "    \"\"\"\n",
    "    def __init__(self, time, value, error=None):\n",
    "        self.time = time\n",
    "        self.value = value\n",
    "        self.error = error\n",
    "        self.notice = np.ones_like(value, dtype='bool')\n",
    "    \n",
    "    def notice_time(self, tmin, tmax):\n",
    "        \"\"\"\n",
    "        Modify the `notice` attribute to filter by time.\n",
    "        \n",
    "        Inputs\n",
    "        ------\n",
    "        \n",
    "        tmin : float, lower end of chosen time interval\n",
    "        \n",
    "        tmax : float, upper end of chosen time interval\n",
    "         \"\"\"\n",
    "        self.notice = (self.time >= tmin) & (self.time <= tmax)\n",
    "    \n",
    "    def plot(self, ax, **kwargs):\n",
    "        \"\"\"\n",
    "        Plot the light curve. Only plots noticed values.\n",
    "        \n",
    "        Inputs\n",
    "        ------\n",
    "\n",
    "        ax : matplotlib axes object, where the plot will go\n",
    "        \n",
    "        **kwargs are passed to matplotlib plotting functions\n",
    "        \"\"\"\n",
    "        if self.error is not None:\n",
    "            ax.errorbar(self.time[self.notice], self.value[self.notice], \n",
    "                        yerr=self.error[self.notice], **kwargs)\n",
    "        else:\n",
    "            ax.scatter(self.time[self.notice], self.value[self.notice], **kwargs)\n",
    "    \n",
    "    def clip_sigma(self, sigma_threshold):\n",
    "        \"\"\"\n",
    "        Remove outliers by filtering out values that are far from the mean value of the light curve.\n",
    "        \n",
    "        Inputs\n",
    "        ------\n",
    "        \n",
    "        sigma_threshold : float, data that is > `sigma_threshold` standard deviations away \n",
    "                          from the light curve mean will be filtered out of the light curve\n",
    "        \n",
    "        Returns\n",
    "        -------\n",
    "        The `notice` array is modified so that only values within `sigma_threshold` of the \n",
    "        mean will be included.\n",
    "        \"\"\"\n",
    "        igood = np.ones_like(self.value, dtype='bool')\n",
    "        test_good_value_length = len(self.value[igood])\n",
    "\n",
    "        continue_clipping = True\n",
    "        while continue_clipping:\n",
    "            \n",
    "            # How many standard deviations is the data point away from the mean?\n",
    "            std_dev = np.std(self.value[igood])\n",
    "            mean    = np.mean(self.value[igood])\n",
    "            test_distance = np.abs(self.value - mean) / std_dev\n",
    "            \n",
    "            # Keep values that are within threshold number of standard deviations away from mean\n",
    "            igood = (test_distance <= sigma_threshold) # boolean array\n",
    "            \n",
    "            # Decide whether or not we are done\n",
    "            test_length = len(self.value[igood])\n",
    "            print('Total number of values clipped: {}'.format(len(self.value) - test_length))\n",
    "            if test_length == test_good_value_length: # if the length of the array has NOT changed\n",
    "                print(\"Done clipping\")\n",
    "                continue_clipping = False # we can stop clipping\n",
    "            else:\n",
    "                test_good_value_length = test_length # reset the test length\n",
    "                print(\"Continue clipping\")\n",
    "        \n",
    "        self.notice = igood"
   ]
  },
  {
   "cell_type": "markdown",
   "id": "8341c30d",
   "metadata": {},
   "source": [
    "### Test it out!\n",
    "\n",
    "In a Gaussian distribution of data points, 0.3% of the data will be > 3-sigma away from the mean. So with 1000 Gaussian data points, I expect a few of them to be removed by my sigma-clipping algorithm if I set `sigma_threshold = 3`"
   ]
  },
  {
   "cell_type": "code",
   "execution_count": null,
   "id": "e677c485",
   "metadata": {},
   "outputs": [],
   "source": [
    "# First, I have to remake the fake dataset so I can make a LightCurve object \n",
    "# that has the new functionalities defined above\n",
    "my_x = np.linspace(0, 100, 1000) \n",
    "my_y = np.random.normal(1.0, 0.3, size=len(my_x)) \n",
    "my_lc = LightCurve(my_x, my_y)\n",
    "\n",
    "ax = plt.subplot(111) \n",
    "\n",
    "# plot the original dataset\n",
    "my_lc.plot(ax, color='r', label='original dataset')\n",
    "\n",
    "# Remove data points that are > 3 sigma from the mean\n",
    "my_lc.clip_sigma(3.0)\n",
    "\n",
    "# now plot the filtered data only\n",
    "my_lc.plot(ax, color='0.5', label='outliers removed')\n",
    "\n",
    "ax.legend()"
   ]
  },
  {
   "cell_type": "markdown",
   "id": "5bfc6cbc",
   "metadata": {},
   "source": [
    "# 2. Write a class with inheritance\n",
    "\n",
    "Now let's work with real data! In this case, we'll be using light curves provided by the [MAXI all sky survey](http://maxi.riken.jp/top/index.html), which monitors bright X-ray point sources across the entire sky every day. The [light curves](http://maxi.riken.jp/top/lc.html) for these X-ray sources can be downloaded from the MAXI website in ASCII text format.\n",
    "\n",
    "In the case below, I write a subclass of the `LightCurve` object. It opens the text files I downloaded from the website and stores the 2-20 keV as a light curve. (See the MAXI light curve [README](http://maxi.riken.jp/top/lc_readme.txt) file.)"
   ]
  },
  {
   "cell_type": "code",
   "execution_count": null,
   "id": "f71dc65a",
   "metadata": {},
   "outputs": [],
   "source": [
    "class MAXILightCurve(LightCurve):\n",
    "    \"\"\"\n",
    "    A MAXI Light Curve loaded from the data files provided on the MAXI website.\n",
    "    \"\"\"\n",
    "    def __init__(self, filename):\n",
    "        data = ascii.read(filename)\n",
    "        LightCurve.__init__(self, data['col1'], data['col2'], error=data['col3'])"
   ]
  },
  {
   "cell_type": "markdown",
   "id": "96fc0dde",
   "metadata": {},
   "source": [
    "## 2.1 Test out your sigma clipping algorithm on some real data\n",
    "\n",
    "I have included the light curve for Cyg X-2, and X-ray binary in the constellation of Cygnus. The code below applies the sigma-clipping algorithm you wrote in order to remove flares from the dataset."
   ]
  },
  {
   "cell_type": "code",
   "execution_count": null,
   "id": "0e7388c1",
   "metadata": {},
   "outputs": [],
   "source": [
    "cygX2_lc = MAXILightCurve('J2144+383_g_lc_1day_all.dat')\n",
    "\n",
    "ax = plt.subplot(111)\n",
    "cygX2_lc.plot(ax, color='k', marker='.', lw=0.5, alpha=0.5, ls='')\n",
    "ax.set_xlabel('MJD')\n",
    "ax.set_ylabel('ph cm^-2 s^-1')\n",
    "\n",
    "# Here, I am going to print and overplot the mean and 3 x the standard deviation\n",
    "# To get a sense for which dat points will be clipped.\n",
    "mean = np.mean(cygX2_lc.value)\n",
    "stddev = np.std(cygX2_lc.value)\n",
    "print(\"Mean flux: {:.2f} +/- {:.2f}\".format(mean, stddev))\n",
    "\n",
    "ax.axhline(mean, color='r')\n",
    "ax.axhline(mean + 3 * stddev, color='r', ls='--')\n",
    "ax.axhline(mean - 3 * stddev, color='r', ls='--')"
   ]
  },
  {
   "cell_type": "code",
   "execution_count": null,
   "id": "e46c5ce3",
   "metadata": {},
   "outputs": [],
   "source": [
    "## Now ;et's remove 3-sigma flares\n",
    "\n",
    "cygX2_lc.clip_sigma(3.0)\n",
    "\n",
    "print('')\n",
    "print('Quiescent Mean Flux {:.2f} +/- {:.2f}'.format(np.mean(cygX2_lc.value[cygX2_lc.notice]), \n",
    "                                                     np.std(cygX2_lc.value[cygX2_lc.notice])))\n",
    "\n",
    "# The new plot should show some data points removed\n",
    "ax = plt.subplot(111)\n",
    "cygX2_lc.plot(ax, color='k', marker='.', lw=0.5, alpha=0.5)\n",
    "ax.set_xlabel('MJD')\n",
    "ax.set_ylabel('ph cm^-2 s^-1')"
   ]
  },
  {
   "cell_type": "markdown",
   "id": "0488ae99",
   "metadata": {},
   "source": [
    "**Thought Question:** How many data points got clipped? Does it look  reasonable to you?"
   ]
  },
  {
   "cell_type": "markdown",
   "id": "d0435e5f",
   "metadata": {},
   "source": [
    "## 2.2 Sigma clipping on a source with strong outbursts\n",
    "\n",
    "The X-ray binary GX 339-4 undergoes large outbursts every few years. Let's see how the sigma-clipping algorithm does when we try to remove those outbursts from the dataset."
   ]
  },
  {
   "cell_type": "code",
   "execution_count": null,
   "id": "8e5c0be1",
   "metadata": {},
   "outputs": [],
   "source": [
    "gx339_lc = MAXILightCurve('J1702-487_g_lc_1day_all.dat')\n",
    "\n",
    "ax = plt.subplot(111)\n",
    "gx339_lc.plot(ax, color='k', marker='.', lw=0.5, alpha=0.5)\n",
    "ax.set_xlabel('MJD')\n",
    "ax.set_ylabel('ph cm^-2 s^-1')\n",
    "\n",
    "# Here, I am going to print and overplot the mean and 3 x the standard deviation\n",
    "# To get a sense for which dat points will be clipped.\n",
    "mean = np.mean(gx339_lc.value)\n",
    "stddev = np.std(gx339_lc.value)\n",
    "print(\"Mean flux: {:.2f} +/- {:.2f}\".format(mean, stddev))\n",
    "\n",
    "ax.axhline(mean, color='r')\n",
    "ax.axhline(mean + 3. * stddev, color='r', ls='--')\n",
    "ax.axhline(mean - 3. * stddev, color='r', ls='--')"
   ]
  },
  {
   "cell_type": "code",
   "execution_count": null,
   "id": "101494cf",
   "metadata": {},
   "outputs": [],
   "source": [
    "## Now remove 3-sigma flares\n",
    "gx339_lc.clip_sigma(3.0)\n",
    "\n",
    "print('')\n",
    "print('Quiescent Mean Flux {:.2f} +/- {:.2f}'.format(np.mean(gx339_lc.value[gx339_lc.notice]), \n",
    "                                                     np.std(gx339_lc.value[gx339_lc.notice])))\n",
    "\n",
    "# The new plot should show some data points removed\n",
    "ax = plt.subplot(111)\n",
    "gx339_lc.plot(ax, color='k', marker='.', lw=0.5, ls='', alpha=0.5)\n",
    "ax.set_xlabel('MJD')\n",
    "ax.set_ylabel('ph cm^-2 s^-1')"
   ]
  },
  {
   "cell_type": "markdown",
   "id": "7290404d",
   "metadata": {},
   "source": [
    "**Thought Question:** Did you algorithm perform as planned? Is there something you would do to improve it?\n",
    "\n",
    "**Bonus:** How would you modify the code to get the light curve data for the periods of outburst?"
   ]
  },
  {
   "cell_type": "markdown",
   "id": "1a8e4cd6",
   "metadata": {},
   "source": [
    "## 3. Super challenge\n",
    "\n",
    "If you look at the MAXI light curve files, you'll see that there are nine columns in total. That's because the light curves are also separated into multiple bandpasses: 2-20 keV (broad), 2-4 keV (soft), 4-10 keV (medium) and 10-20 keV (hard) X-ray light ([as described in the light curve README file](http://maxi.riken.jp/top/lc_readme.txt)).\n",
    "\n",
    "* How would you write your `MAXILightCurve` class to load all of the light curves available in the ASCII file?\n",
    "\n",
    "* Write a method that plots the totsl 2-20 keV brightness versus spectral hardness (e.g., medium/soft). This is the famous \"q-diagram\" used to study accretion onto black holes and neutron stars. (e.g., [http://www.sternwarte.uni-erlangen.de/proaccretion/](http://www.sternwarte.uni-erlangen.de/proaccretion/))\n",
    "\n",
    "* Where do the flares fall on this spectra hardness ratio diagram? Where are the quiescent data points?"
   ]
  },
  {
   "cell_type": "markdown",
   "id": "84adf1ab",
   "metadata": {},
   "source": [
    "## Further concepts\n",
    "\n",
    "Ask me later if you are interested in hearing about some of these concepts!"
   ]
  },
  {
   "cell_type": "markdown",
   "id": "80e96ff0",
   "metadata": {},
   "source": [
    "**More advanced things you can build into classes:**\n",
    "\n",
    "* Properties -- functions that require no input and are calculated on the fly. You can access them in the same way you access attributes.\n",
    "* Private methods -- class function definitions that are usually not intended to be accessed by the user. Usually these function names start with an underscore (e.g., _my_hidden_func) or double underscore\n",
    "* Magic methods -- special function definitions that tells Python what to do in special circumstances. For example, defining a `__getitem__` method for your class will tell Python what to do when you subcript that object with bracket notation (e.g., `x[0]`) "
   ]
  },
  {
   "cell_type": "code",
   "execution_count": null,
   "id": "99d7b81d",
   "metadata": {},
   "outputs": [],
   "source": []
  }
 ],
 "metadata": {
  "kernelspec": {
   "display_name": "Python 3 (ipykernel)",
   "language": "python",
   "name": "python3"
  },
  "language_info": {
   "codemirror_mode": {
    "name": "ipython",
    "version": 3
   },
   "file_extension": ".py",
   "mimetype": "text/x-python",
   "name": "python",
   "nbconvert_exporter": "python",
   "pygments_lexer": "ipython3",
   "version": "3.11.0"
  }
 },
 "nbformat": 4,
 "nbformat_minor": 5
}
