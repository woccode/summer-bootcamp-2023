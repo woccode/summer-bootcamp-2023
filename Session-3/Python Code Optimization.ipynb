{
 "cells": [
  {
   "cell_type": "markdown",
   "id": "expected-trader",
   "metadata": {},
   "source": [
    "# Evaluating Code Performance"
   ]
  },
  {
   "cell_type": "markdown",
   "id": "emerging-academy",
   "metadata": {},
   "source": [
    "## Using Brute Force technique"
   ]
  },
  {
   "cell_type": "code",
   "execution_count": null,
   "id": "freelance-excuse",
   "metadata": {},
   "outputs": [],
   "source": [
    "def sample_slow_code():\n",
    "    total = 0.0\n",
    "    for i in range(9999): \n",
    "        for j in range(1, 9999):           \n",
    "            total += (i / j)\n",
    "    print(\"Total: \" ,total)"
   ]
  },
  {
   "cell_type": "code",
   "execution_count": null,
   "id": "resident-emergency",
   "metadata": {},
   "outputs": [],
   "source": [
    "# import necessary libraries\n",
    "import datetime\n",
    "\n",
    "# record runtime start of the code snippet\n",
    "start = datetime.datetime.now()\n",
    "\n",
    "# code snippet to test\n",
    "sample_slow_code()\n",
    "\n",
    "# record runtime end of the code snippet\n",
    "end = datetime.datetime.now()\n",
    "\n",
    "# printing total time taken for the code snippet to run\n",
    "print(end - start)"
   ]
  },
  {
   "cell_type": "markdown",
   "id": "closed-privilege",
   "metadata": {},
   "source": [
    "## Using Library"
   ]
  },
  {
   "cell_type": "markdown",
   "id": "removable-sacrifice",
   "metadata": {},
   "source": [
    "### timeit"
   ]
  },
  {
   "cell_type": "markdown",
   "id": "published-pension",
   "metadata": {},
   "source": [
    "Reference: https://docs.python.org/3/library/timeit.html#timeit.Timer.timeit\n",
    "\n",
    "Runs the code snippet for the specified number of times and returns the minimum time taken for execution. By default, timeit() temporarily turns off garbage collection. \n",
    "\n",
    "Advantage: Makes independent timings more comparable. \n",
    "\n",
    "Disadvantag: GC may be an important component of the performance of the function being measured. In such cases, GC can be re-enabled as the first statement in the setup string."
   ]
  },
  {
   "cell_type": "code",
   "execution_count": null,
   "id": "therapeutic-contrast",
   "metadata": {},
   "outputs": [],
   "source": [
    "# importing the required module\n",
    "import timeit\n",
    " \n",
    "# code snippet to be executed only once\n",
    "mysetup = \"from math import sqrt\"\n",
    " \n",
    "# code snippet whose execution time is to be measured\n",
    "sample_slow_code = '''\n",
    "def sample_slow_code():\n",
    "    total = 0.0\n",
    "    for i in range(9999): \n",
    "        for j in range(1, 9999):           \n",
    "            total += (i / j)\n",
    "    print(total)\n",
    "'''\n",
    " \n",
    "# timeit statement\n",
    "print(timeit.timeit(setup=mysetup,\n",
    "                    stmt=sample_slow_code,\n",
    "                    number=100))"
   ]
  },
  {
   "cell_type": "markdown",
   "id": "present-numbers",
   "metadata": {},
   "source": [
    "Same as timeit(), but has advantage of running timeit() for specified iterations. Returns an array of time taken in seconds by each iteration of the timeit() function."
   ]
  },
  {
   "cell_type": "code",
   "execution_count": null,
   "id": "immediate-lafayette",
   "metadata": {},
   "outputs": [],
   "source": [
    "timeit.repeat(sample_slow_code, repeat=3, number=10)"
   ]
  },
  {
   "cell_type": "markdown",
   "id": "based-zimbabwe",
   "metadata": {},
   "source": [
    "## Using Profilers"
   ]
  },
  {
   "cell_type": "markdown",
   "id": "continental-voice",
   "metadata": {},
   "source": [
    "### cProfiler"
   ]
  },
  {
   "cell_type": "code",
   "execution_count": null,
   "id": "accredited-malaysia",
   "metadata": {},
   "outputs": [],
   "source": [
    "import cProfile\n",
    "cProfile.run(sample_slow_code)"
   ]
  },
  {
   "cell_type": "markdown",
   "id": "minimal-clearance",
   "metadata": {},
   "source": [
    "Some Additional profilers to try: Line Profiler, Memory Profiler"
   ]
  },
  {
   "cell_type": "markdown",
   "id": "fleet-communist",
   "metadata": {},
   "source": [
    "# Python Code Optimization"
   ]
  },
  {
   "cell_type": "markdown",
   "id": "capable-greece",
   "metadata": {},
   "source": [
    "## Peephole Optimization technique"
   ]
  },
  {
   "cell_type": "code",
   "execution_count": null,
   "id": "boolean-grace",
   "metadata": {},
   "outputs": [],
   "source": [
    "def peephole_function_1():\n",
    "    for name in [\"A\", \"B\", \"C\", \"D\"]:\n",
    "        pass\n",
    "    \n",
    "    for a in {1,2,3,4}:\n",
    "        pass"
   ]
  },
  {
   "cell_type": "code",
   "execution_count": null,
   "id": "little-indicator",
   "metadata": {},
   "outputs": [],
   "source": [
    "def peephole_function_2():\n",
    "    seconds_in_week = 7 * 24 * 60 * 60\n",
    "    short_strings = \"abc\" * 6\n",
    "    tuples = (1,2) * 4\n",
    "    long_strings = \"very very long sentence\" * 80"
   ]
  },
  {
   "cell_type": "code",
   "execution_count": null,
   "id": "played-martin",
   "metadata": {},
   "outputs": [],
   "source": [
    "peephole_function_2.__code__.co_consts"
   ]
  },
  {
   "cell_type": "markdown",
   "id": "elder-maintenance",
   "metadata": {},
   "source": [
    "## String Interning"
   ]
  },
  {
   "cell_type": "code",
   "execution_count": null,
   "id": "postal-frederick",
   "metadata": {},
   "outputs": [],
   "source": [
    "a = 'Hello World'\n",
    "b = 'Hello World'\n",
    "c = 'Hello Worl'\n",
    "\n",
    "print(a is b)\n",
    "print(a == b)\n",
    "print(a is c+'d')\n",
    "print(a == c+'d')"
   ]
  },
  {
   "cell_type": "code",
   "execution_count": null,
   "id": "burning-burden",
   "metadata": {},
   "outputs": [],
   "source": [
    "letter_d = 'd'\n",
    "\n",
    "a = 'Hello World'\n",
    "b = 'Hello World'\n",
    "c = 'Hello Worl' + letter_d\n",
    "d = 'Hello Worl' + 'd'\n",
    "\n",
    "print(f\"The ID of a: {id(a)}\")\n",
    "print(f\"The ID of b: {id(b)}\")\n",
    "print(f\"The ID of c: {id(c)}\")\n",
    "print(f\"The ID of d: {id(d)}\")"
   ]
  },
  {
   "cell_type": "code",
   "execution_count": null,
   "id": "administrative-expert",
   "metadata": {},
   "outputs": [],
   "source": [
    "import sys\n",
    "\n",
    "letter_d = 'd'\n",
    "\n",
    "a = sys.intern('Hello World')\n",
    "b = sys.intern('Hello Worl' + letter_d)\n",
    "\n",
    "print(f\"The ID of a: {id(a)}\")\n",
    "print(f\"The ID of b: {id(b)}\")\n",
    "print(f\"a is b? {a is b}\")"
   ]
  },
  {
   "cell_type": "markdown",
   "id": "polyphonic-sarah",
   "metadata": {},
   "source": [
    "Advantages:\n",
    "1. Saving Memory\n",
    "2. Fast Comparisons\n",
    "3. Fast Dictionary lookups\n",
    "\n",
    "Disadvantages:\n",
    "1. Memory Cost\n",
    "2. Time Cost\n",
    "3. Multi-threaded Environments"
   ]
  },
  {
   "cell_type": "markdown",
   "id": "further-lambda",
   "metadata": {},
   "source": [
    "is checks whether the variables are referring to the same object in memory, while == checks whether the variables have the same value."
   ]
  },
  {
   "cell_type": "markdown",
   "id": "southern-geology",
   "metadata": {},
   "source": [
    "## Sorting"
   ]
  },
  {
   "cell_type": "code",
   "execution_count": null,
   "id": "existing-straight",
   "metadata": {},
   "outputs": [],
   "source": [
    "# Using keys for sorting\n",
    "x = [1, -3, 6, 11, 5]\n",
    "x.sort()\n",
    "print(x)"
   ]
  },
  {
   "cell_type": "code",
   "execution_count": null,
   "id": "spread-neighborhood",
   "metadata": {},
   "outputs": [],
   "source": [
    "# Using sorted() if you don't want to sort in-place\n",
    "x = [1, -3, 6, 11, 5]\n",
    "x = sorted (x)\n",
    "print(x)\n",
    "\n",
    "y = 'some text'\n",
    "y = sorted (y)\n",
    "print(y)"
   ]
  },
  {
   "cell_type": "markdown",
   "id": "major-sister",
   "metadata": {},
   "source": [
    "## Built-in Functions & Libraries"
   ]
  },
  {
   "cell_type": "code",
   "execution_count": null,
   "id": "ready-accounting",
   "metadata": {},
   "outputs": [],
   "source": [
    "import time\n",
    "import datetime\n",
    "\n",
    "# without map()\n",
    "start = datetime.datetime.now()\n",
    "s = 'some text'\n",
    "U = []\n",
    "for c in s:\n",
    "    U.append(c.upper())\n",
    "print(U)\n",
    "end = datetime.datetime.now()\n",
    "print(\"Execution time without map() function: \", end-start)\n",
    "\n",
    "# with map()\n",
    "start = datetime.datetime.now()\n",
    "s = 'some text'\n",
    "U = map(str.upper, s)\n",
    "print(U)\n",
    "end = datetime.datetime.now()\n",
    "print(\"Execution time using built-in map() function: \", end-start)"
   ]
  },
  {
   "cell_type": "code",
   "execution_count": null,
   "id": "compact-rebate",
   "metadata": {},
   "outputs": [],
   "source": [
    "# importing list-like container with fast append and pop on either end\n",
    "\n",
    "from collections import deque\n",
    "s = 'some text'\n",
    "\n",
    "# make a new deque\n",
    "d = deque(s)\n",
    "\n",
    "# add a new entry to the right side\n",
    "d.append('s')\n",
    "\n",
    "# add a new entry to the left side\n",
    "d.appendleft('a ')\n",
    "print(d)\n",
    "\n",
    "d.pop() # return and remove the rightmost item\n",
    "   \n",
    "d.popleft() # return and remove the lefttmost item\n",
    "   \n",
    "# print list deque in reverse\n",
    "print (list(reversed(d))) "
   ]
  },
  {
   "cell_type": "code",
   "execution_count": null,
   "id": "developed-olympus",
   "metadata": {},
   "outputs": [],
   "source": [
    "import itertools\n",
    "iter = itertools.permutations([1,2,3])\n",
    "print(list(iter))"
   ]
  },
  {
   "cell_type": "markdown",
   "id": "saved-answer",
   "metadata": {},
   "source": [
    "## Optimizing Loops"
   ]
  },
  {
   "cell_type": "code",
   "execution_count": null,
   "id": "aboriginal-company",
   "metadata": {},
   "outputs": [],
   "source": [
    "import datetime\n",
    "\n",
    "# Example using optimized loop for faster coding\n",
    "\n",
    "# slow O(n^2) - ( Note: In latest implementations it is O(n) )\n",
    "start = datetime.datetime.now()\n",
    "s = 'some text'\n",
    "slist = ''\n",
    "for i in s:\n",
    "    slist = slist + i\n",
    "print (slist)\n",
    "end = datetime.datetime.now()\n",
    "\n",
    "print(\"Time taken:\", start-end)\n",
    "      \n",
    "# string concatenation (idiomatic and fast O(n))\n",
    "start = datetime.datetime.now()\n",
    "st = 'some text'\n",
    "slist = ''.join([i for i in s])\n",
    "print (slist)\n",
    "end = datetime.datetime.now()\n",
    "\n",
    "print(\"Time taken:\", start-end)\n",
    "  \n",
    "# Better way to iterate a range\n",
    "start = datetime.datetime.now()\n",
    "evens = [ i for i in range(10) if i%2 == 0]\n",
    "print (evens)\n",
    "end = datetime.datetime.now()\n",
    "\n",
    "print(\"Time taken:\", start-end)\n",
    "  \n",
    "# slow\n",
    "start = datetime.datetime.now()\n",
    "v = 'random'\n",
    "s = 'some ' + v + ' text'\n",
    "print (s)\n",
    "end = datetime.datetime.now()\n",
    "\n",
    "print(\"Time taken:\", start-end)\n",
    "  \n",
    "# fast\n",
    "start = datetime.datetime.now()\n",
    "s = 'some %s text' % v\n",
    "print (s)\n",
    "end = datetime.datetime.now()\n",
    "\n",
    "print(\"Time taken:\", start-end)\n"
   ]
  },
  {
   "cell_type": "markdown",
   "id": "hollow-round",
   "metadata": {},
   "source": [
    "### Different coding approaches:"
   ]
  },
  {
   "cell_type": "code",
   "execution_count": null,
   "id": "sitting-restriction",
   "metadata": {},
   "outputs": [],
   "source": [
    "# Slower version\n",
    "start = datetime.datetime.now()\n",
    "dict_1 = {'a':1,'e':1,'i':1,'o':1, 'u':1}\n",
    "word = 'some text'\n",
    "for w in word:\n",
    "    if w not in dict_1:\n",
    "        dict_1[w] = 0\n",
    "    dict_1[w] += 1\n",
    "print (dict_1)\n",
    "end = datetime.datetime.now()\n",
    "\n",
    "print(\"Time taken:\", start-end)\n",
    "  \n",
    "# Faster version\n",
    "start = datetime.datetime.now()\n",
    "dict_1 = {'a':1,'e':1,'i':1,'o':1, 'u':1}\n",
    "word = 'some text'\n",
    "for w in word:\n",
    "    try:\n",
    "        dict_1[w] += 1\n",
    "    except KeyError:\n",
    "        dict_1[w] = 1\n",
    "print (dict_1)\n",
    "end = datetime.datetime.now()\n",
    "\n",
    "print(\"Time taken:\", start-end)\n"
   ]
  },
  {
   "cell_type": "code",
   "execution_count": null,
   "id": "after-blair",
   "metadata": {},
   "outputs": [],
   "source": [
    "# slower\n",
    "start = datetime.datetime.now()\n",
    "x = 2\n",
    "y = 5\n",
    "temp = x\n",
    "x = y\n",
    "y = temp\n",
    "print (x,y)\n",
    "end = datetime.datetime.now()\n",
    "\n",
    "print(\"Time taken:\", start-end)\n",
    "\n",
    "start = datetime.datetime.now()\n",
    "x,y = 3,5\n",
    "# faster\n",
    "x, y = y, x\n",
    "print (x,y)\n",
    "end = datetime.datetime.now()\n",
    "\n",
    "print(\"Time taken:\", start-end)"
   ]
  },
  {
   "cell_type": "code",
   "execution_count": null,
   "id": "sharp-player",
   "metadata": {},
   "outputs": [],
   "source": [
    "class Test:\n",
    "    def func(self,x):\n",
    "        print (x+x)\n",
    "\n",
    "# Declaring variable that assigns class method object\n",
    "obj = Test()\n",
    "\n",
    "# Slower\n",
    "start = datetime.datetime.now()\n",
    "obj.func(i)\n",
    "end = datetime.datetime.now()\n",
    "\n",
    "print(\"Time taken:\", start-end)\n",
    "\n",
    "# Faster\n",
    "start = datetime.datetime.now()\n",
    "mytest = obj.func # Declaring local variable\n",
    "n = 2\n",
    "for i in range(n):\n",
    "    mytest(i) # faster than obj.func(i)\n",
    "end = datetime.datetime.now()\n",
    "\n",
    "print(\"Time taken:\", start-end)"
   ]
  }
 ],
 "metadata": {
  "kernelspec": {
   "display_name": "Python 3",
   "language": "python",
   "name": "python3"
  },
  "language_info": {
   "codemirror_mode": {
    "name": "ipython",
    "version": 3
   },
   "file_extension": ".py",
   "mimetype": "text/x-python",
   "name": "python",
   "nbconvert_exporter": "python",
   "pygments_lexer": "ipython3",
   "version": "3.8.5"
  }
 },
 "nbformat": 4,
 "nbformat_minor": 5
}
