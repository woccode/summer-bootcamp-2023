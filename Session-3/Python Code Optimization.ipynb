{
 "cells": [
  {
   "cell_type": "markdown",
   "id": "robust-union",
   "metadata": {},
   "source": [
    "# Evaluating Code Performance"
   ]
  },
  {
   "cell_type": "markdown",
   "id": "nasty-engineering",
   "metadata": {},
   "source": [
    "## Using Brute Force technique"
   ]
  },
  {
   "cell_type": "code",
   "execution_count": 1,
   "id": "stainless-isaac",
   "metadata": {},
   "outputs": [
    {
     "name": "stdout",
     "output_type": "stream",
     "text": [
      "0:00:00\n"
     ]
    }
   ],
   "source": [
    "import datetime\n",
    "start = datetime.datetime.now()\n",
    "\n",
    "end = datetime.datetime.now()\n",
    "print(end - start)"
   ]
  },
  {
   "cell_type": "markdown",
   "id": "addressed-clone",
   "metadata": {},
   "source": [
    "## Using Library"
   ]
  },
  {
   "cell_type": "markdown",
   "id": "representative-supervisor",
   "metadata": {},
   "source": [
    "### timeit"
   ]
  },
  {
   "cell_type": "code",
   "execution_count": 2,
   "id": "chicken-mills",
   "metadata": {},
   "outputs": [],
   "source": [
    "import timeit"
   ]
  },
  {
   "cell_type": "markdown",
   "id": "pregnant-meaning",
   "metadata": {},
   "source": [
    "The timeit library has two ways to test the code: command line and inline"
   ]
  },
  {
   "cell_type": "code",
   "execution_count": 4,
   "id": "suspended-diagnosis",
   "metadata": {},
   "outputs": [
    {
     "data": {
      "text/plain": [
       "1.258176799998182"
      ]
     },
     "execution_count": 4,
     "metadata": {},
     "output_type": "execute_result"
    }
   ],
   "source": [
    "timeit.timeit(\"[(a,b) for a in (1,3,5) for b in (2,4,6)]\")"
   ]
  },
  {
   "cell_type": "code",
   "execution_count": 5,
   "id": "searching-gilbert",
   "metadata": {},
   "outputs": [
    {
     "data": {
      "text/plain": [
       "0.001188700000056997"
      ]
     },
     "execution_count": 5,
     "metadata": {},
     "output_type": "execute_result"
    }
   ],
   "source": [
    "timeit.timeit(\"[(a,b) for a in (1,3,5) for b in (2,4,6)]\", number=1000)"
   ]
  },
  {
   "cell_type": "code",
   "execution_count": 8,
   "id": "centered-garden",
   "metadata": {},
   "outputs": [
    {
     "data": {
      "text/plain": [
       "[1.2591716000024462,\n",
       " 1.2622565999990911,\n",
       " 1.2423503000027267,\n",
       " 1.2928650000030757,\n",
       " 1.2550126999994973]"
      ]
     },
     "execution_count": 8,
     "metadata": {},
     "output_type": "execute_result"
    }
   ],
   "source": [
    "timeit.repeat(\"[(a,b) for a in (1,3,5) for b in (2,4,6)]\")"
   ]
  },
  {
   "cell_type": "markdown",
   "id": "independent-conversation",
   "metadata": {},
   "source": [
    "## Using Profilers"
   ]
  },
  {
   "cell_type": "markdown",
   "id": "hazardous-customer",
   "metadata": {},
   "source": [
    "### line_profiler"
   ]
  },
  {
   "cell_type": "markdown",
   "id": "changed-symphony",
   "metadata": {},
   "source": [
    "Run test.py file"
   ]
  },
  {
   "cell_type": "markdown",
   "id": "sensitive-detail",
   "metadata": {},
   "source": [
    "# Python Code Optimization"
   ]
  },
  {
   "cell_type": "markdown",
   "id": "greatest-clear",
   "metadata": {},
   "source": [
    "## Peephole Optimization technique"
   ]
  },
  {
   "cell_type": "markdown",
   "id": "formal-reducing",
   "metadata": {},
   "source": []
  },
  {
   "cell_type": "markdown",
   "id": "speaking-render",
   "metadata": {},
   "source": [
    "## String Interning"
   ]
  },
  {
   "cell_type": "code",
   "execution_count": null,
   "id": "abandoned-developer",
   "metadata": {},
   "outputs": [],
   "source": []
  },
  {
   "cell_type": "markdown",
   "id": "sonic-missouri",
   "metadata": {},
   "source": [
    "## Code Profiling"
   ]
  },
  {
   "cell_type": "code",
   "execution_count": null,
   "id": "underlying-frontier",
   "metadata": {},
   "outputs": [],
   "source": []
  },
  {
   "cell_type": "markdown",
   "id": "hollywood-compensation",
   "metadata": {},
   "source": [
    "## Sorting"
   ]
  },
  {
   "cell_type": "code",
   "execution_count": null,
   "id": "expensive-nashville",
   "metadata": {},
   "outputs": [],
   "source": []
  },
  {
   "cell_type": "markdown",
   "id": "pretty-fraud",
   "metadata": {},
   "source": [
    "## Built-in Operators & External Libraries"
   ]
  },
  {
   "cell_type": "code",
   "execution_count": null,
   "id": "vocal-sperm",
   "metadata": {},
   "outputs": [],
   "source": []
  },
  {
   "cell_type": "markdown",
   "id": "laden-devon",
   "metadata": {},
   "source": [
    "## Optimizing Loops"
   ]
  },
  {
   "cell_type": "code",
   "execution_count": null,
   "id": "catholic-apartment",
   "metadata": {},
   "outputs": [],
   "source": []
  },
  {
   "cell_type": "markdown",
   "id": "nominated-proof",
   "metadata": {},
   "source": [
    "## Dead code management"
   ]
  },
  {
   "cell_type": "code",
   "execution_count": null,
   "id": "based-proceeding",
   "metadata": {},
   "outputs": [],
   "source": []
  },
  {
   "cell_type": "code",
   "execution_count": null,
   "id": "bored-omega",
   "metadata": {},
   "outputs": [],
   "source": []
  }
 ],
 "metadata": {
  "kernelspec": {
   "display_name": "Python 3",
   "language": "python",
   "name": "python3"
  },
  "language_info": {
   "codemirror_mode": {
    "name": "ipython",
    "version": 3
   },
   "file_extension": ".py",
   "mimetype": "text/x-python",
   "name": "python",
   "nbconvert_exporter": "python",
   "pygments_lexer": "ipython3",
   "version": "3.8.5"
  }
 },
 "nbformat": 4,
 "nbformat_minor": 5
}
