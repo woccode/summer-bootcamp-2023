{
 "cells": [
  {
   "cell_type": "markdown",
   "id": "aac45030",
   "metadata": {},
   "source": [
    "# What makes Python popular\n",
    "\n",
    "* Relatively easy to read (white space instead of punctuation)\n",
    "\n",
    "* Object-oriented programming is built in to every aspect of Python (more on this soon)\n",
    "\n",
    "* A strong \"front end\" language -- useful for calculations, scientific inference and interpreting results, but can quickly become inefficient for hefty numerical tasks (like hydrodynamical simulations). For numerically intensive projects, good coding choices are required, and you may need to use special libraries that assist Python with speed (e.g., cython, numba).\n",
    "\n",
    "* A large number of users with strong open source communities -- leading to a proliferation of widely useful packages (numpy, scipy, scikit, pytorch, pandas, seaborn, astropy, pymc3)"
   ]
  },
  {
   "cell_type": "markdown",
   "id": "90611b1c",
   "metadata": {},
   "source": [
    "# 1. Built-in Python objects"
   ]
  },
  {
   "cell_type": "markdown",
   "id": "702d2182",
   "metadata": {},
   "source": [
    "## 1.1 Floats and Integers\n",
    "\n",
    "Python numbers can be integers (whole numbers) or floats (numbers with decimals).\n",
    "\n",
    "You can always check the type of your number by using the `type()` function."
   ]
  },
  {
   "cell_type": "code",
   "execution_count": null,
   "id": "c9dbbde2",
   "metadata": {},
   "outputs": [],
   "source": [
    "type(1)"
   ]
  },
  {
   "cell_type": "code",
   "execution_count": null,
   "id": "a4cce55d",
   "metadata": {},
   "outputs": [],
   "source": [
    "type(1.)"
   ]
  },
  {
   "cell_type": "markdown",
   "id": "f57f7d07",
   "metadata": {},
   "source": [
    "You can also define floats with scientific notation, using the character `e`. Any number defined in this way will be stored as a float, even if you don't use a decimal."
   ]
  },
  {
   "cell_type": "code",
   "execution_count": null,
   "id": "b9118510",
   "metadata": {},
   "outputs": [],
   "source": [
    "type(1e3)"
   ]
  },
  {
   "cell_type": "markdown",
   "id": "6e0f9375",
   "metadata": {},
   "source": [
    "Dividing two integers always returns a float."
   ]
  },
  {
   "cell_type": "code",
   "execution_count": null,
   "id": "7a472281",
   "metadata": {},
   "outputs": [],
   "source": [
    "4/2"
   ]
  },
  {
   "cell_type": "code",
   "execution_count": null,
   "id": "b71198a6",
   "metadata": {},
   "outputs": [],
   "source": [
    "type(4/2)"
   ]
  },
  {
   "cell_type": "markdown",
   "id": "ac8b28f1",
   "metadata": {},
   "source": [
    "If you want the integer result from a division, use this special notation."
   ]
  },
  {
   "cell_type": "code",
   "execution_count": null,
   "id": "4e11b3a4",
   "metadata": {},
   "outputs": [],
   "source": [
    "4//2"
   ]
  },
  {
   "cell_type": "code",
   "execution_count": null,
   "id": "a9c417a8",
   "metadata": {},
   "outputs": [],
   "source": [
    "type(4//2)"
   ]
  },
  {
   "cell_type": "markdown",
   "id": "b6660f73",
   "metadata": {},
   "source": [
    "The available range of values depends on the amount of space used to store the number. Most machines these days are \"64-bit\", meaning that, by default, numbers receive 64 bits of storage. Bits take on the value \"0\" or \"1\", and describe the value of a number using base 2 notation (e.g., 00 = 0, 01 = 1, 10 = 2, 11 = 3) So if we only had 8-bits available to store the value of an integer, the maximum value we could store is (2^8 - 1) = 255.\n",
    "\n",
    "Python hides a lot of these details from users. [Python changes the amount of storage space that is taken up by an integer, depending on the value.](https://www.pythontutorial.net/advanced-python/python-integers/) So it will take one bit to store the value 0 or 1, two bits to store the values 3 or 4, and so on. For values larger than 2^64-1, Python will do the book-keeping to store each index of the integer separately. So there is no limit to the integer value you can use in Python. To do this, Python integers are actually objects! (More on what this means soon)"
   ]
  },
  {
   "cell_type": "code",
   "execution_count": null,
   "id": "c7f33e25",
   "metadata": {},
   "outputs": [],
   "source": [
    "type(-1000)"
   ]
  },
  {
   "cell_type": "code",
   "execution_count": null,
   "id": "4f4fc77e",
   "metadata": {},
   "outputs": [],
   "source": [
    "type(999999999999999999999999999999999999999999999)"
   ]
  },
  {
   "cell_type": "markdown",
   "id": "38686d77",
   "metadata": {},
   "source": [
    "![How floats are stored in computer memory - from log2base2.com]\n",
    "(https://www.log2base2.com/images/storage/how-float-values-are-stored-in-memory.png)\n",
    "\n",
    "Python floats are what C programmers call \"doubles\", which are 64-bit representations of signed numbers in scientific notation. 1 bit stores the sign (+ or -), 11 bits store the value of the exponent in scientific notation, and 52 bits store the value before the exponent. This means that the largest value that can be stored is on the order of 10^((2^10) - 1) = 10^1023\n",
    "\n",
    "Let's see what happens when we try to create a float with a value larger than this."
   ]
  },
  {
   "cell_type": "code",
   "execution_count": null,
   "id": "6a50e47b",
   "metadata": {},
   "outputs": [],
   "source": [
    "1.e1024"
   ]
  },
  {
   "cell_type": "markdown",
   "id": "c64acb3d",
   "metadata": {},
   "source": [
    "And here we get to something unique about Python -- the ability to natively represent and handle abstract mathematical concepts such as infinity. Adding, subtracting, multiplying or dividing anything by infinity gives infinity. You are also able to define infinity as being positive or negative."
   ]
  },
  {
   "cell_type": "code",
   "execution_count": null,
   "id": "0574d163",
   "metadata": {},
   "outputs": [],
   "source": [
    "1.e1024 + 1."
   ]
  },
  {
   "cell_type": "code",
   "execution_count": null,
   "id": "fc25deb6",
   "metadata": {},
   "outputs": [],
   "source": [
    "-1.e1024"
   ]
  },
  {
   "cell_type": "markdown",
   "id": "c74ac3f7",
   "metadata": {},
   "source": [
    "## 1.2 More native Python objects\n",
    "\n",
    "As described in some of the details of integers and floats, above, we see that Python is doing a lot of work in the background (back-end) to provide a seamless user experience (front-end). This is because Python is inherently object-oriented -- every value you create in Python is an \"object\" that has special rules governing how they interact with other objects. \n",
    "\n",
    "Integers and floats are `int` and `float` type objects, as described above. Some other very useful Python objects are strings, lists and dictionaries."
   ]
  },
  {
   "cell_type": "markdown",
   "id": "c90e3c89",
   "metadata": {},
   "source": [
    "### Strings\n",
    "\n",
    "Python strings are non-mathematical collections of alpha-numeric characters. They can be defined with single or double quotation marks. Like numbers, string objects have rules for addition and multiplication."
   ]
  },
  {
   "cell_type": "code",
   "execution_count": null,
   "id": "9625470b",
   "metadata": {},
   "outputs": [],
   "source": [
    "type('a'), type(\"bc\")"
   ]
  },
  {
   "cell_type": "code",
   "execution_count": null,
   "id": "da5f95e3",
   "metadata": {},
   "outputs": [],
   "source": [
    "'a' + 'bc'"
   ]
  },
  {
   "cell_type": "code",
   "execution_count": null,
   "id": "0dbc745c",
   "metadata": {},
   "outputs": [],
   "source": [
    "'abc' * 3"
   ]
  },
  {
   "cell_type": "markdown",
   "id": "8b80fb4c",
   "metadata": {},
   "source": [
    "There is a wide variety of operations one can perform on Python strings, which we don't have time to cover in this workshop! See the resources list at the end of this section for links to tutorial sites that cover Python strings,  other Python objects noted in this tutorial, and more Python objects not covered."
   ]
  },
  {
   "cell_type": "markdown",
   "id": "25f63f19",
   "metadata": {},
   "source": [
    "### Dictionaries + logic statements, print formatting, and zip\n",
    "\n",
    "Dictionaries are sets of key-value pairs. I find them handy when I am working with multiple datasets of the same general type, because I can assign each a label and then perform operations on them in sequence.\n",
    "\n",
    "Dictionary keys and values can be *any* type of Python object. You can use curly brackets to initiate a dictionary, where key-value pairs are separated by a colon."
   ]
  },
  {
   "cell_type": "code",
   "execution_count": null,
   "id": "d0a4fad8",
   "metadata": {},
   "outputs": [],
   "source": [
    "my_dictionary = {'a':1, 'b':2, 'c':3, -1:'do re mi'}\n",
    "\n",
    "for k in my_dictionary.keys():\n",
    "    print(k, ':', my_dictionary[k])"
   ]
  },
  {
   "cell_type": "markdown",
   "id": "657062a3",
   "metadata": {},
   "source": [
    "Here is a logic statement that will test if a desired label is in my dictionary. Logic statements return a boolean Python object (bool), that is `True` or `False`."
   ]
  },
  {
   "cell_type": "code",
   "execution_count": null,
   "id": "49ddc03d",
   "metadata": {},
   "outputs": [],
   "source": [
    "print( 'a' in my_dictionary.keys() )"
   ]
  },
  {
   "cell_type": "code",
   "execution_count": null,
   "id": "5f164fe9",
   "metadata": {},
   "outputs": [],
   "source": [
    "print( 10 in my_dictionary.keys() )"
   ]
  },
  {
   "cell_type": "markdown",
   "id": "a8b77d05",
   "metadata": {},
   "source": [
    "We can use `if` and `else` statements to do something with a logic test. Note the special syntax I am using to insert the test value into a string."
   ]
  },
  {
   "cell_type": "code",
   "execution_count": null,
   "id": "f0ed83f4",
   "metadata": {},
   "outputs": [],
   "source": [
    "my_test_key = 'd'\n",
    "\n",
    "if my_test_key in my_dictionary.keys():\n",
    "    print(\"{} is in my_dictionary\".format(my_test_key))\n",
    "else:\n",
    "    print(\"Key not found\")"
   ]
  },
  {
   "cell_type": "markdown",
   "id": "479d6745",
   "metadata": {},
   "source": [
    "**Exercise**: Change the code above to make the logic test pass."
   ]
  },
  {
   "cell_type": "markdown",
   "id": "faca630a",
   "metadata": {},
   "source": [
    "**Efficiency tip:** You can make a dictionary very quickly using the `zip` function in Python. Zip pairs objects one-for-one in the order they are specified. I find this useful for assigning information to labels that I will use over and over again."
   ]
  },
  {
   "cell_type": "code",
   "execution_count": null,
   "id": "418a073d",
   "metadata": {},
   "outputs": [],
   "source": [
    "labels = ['A', 'B', 'C']\n",
    "filenames = ['dataset_A.txt', 'dataset_B.txt', 'dataset_C.txt']\n",
    "colors = ['red', 'cyan', 'magenta']\n",
    "\n",
    "data_files = dict(zip(labels, filenames))\n",
    "plot_colors = dict(zip(labels, colors))\n",
    "\n",
    "for k in labels:\n",
    "    print(\"{} will be plotted in {}\".format(data_files[k], plot_colors[k]))"
   ]
  },
  {
   "cell_type": "markdown",
   "id": "0302ca20",
   "metadata": {},
   "source": [
    "### Lists\n",
    "\n",
    "Lists are a sequence of objects. They don't have to be the same type of object -- Python doesn't care! The sequence is iterable, meaning that we can use a Python `for` loop to perform on operation on the sequence one-by-one."
   ]
  },
  {
   "cell_type": "code",
   "execution_count": null,
   "id": "2d587904",
   "metadata": {},
   "outputs": [],
   "source": [
    "x = [1, 2, 3., 'a', 'b', 'c']\n",
    "\n",
    "for obj in x:\n",
    "    print(type(obj), \":\", obj)"
   ]
  },
  {
   "cell_type": "markdown",
   "id": "6a30c343",
   "metadata": {},
   "source": [
    "It's important to note that you cannot perform math on Python lists! **The rules governing Python lists are entirely different from an array of numbers.** See the following cells, for example."
   ]
  },
  {
   "cell_type": "code",
   "execution_count": null,
   "id": "e38a57e0",
   "metadata": {},
   "outputs": [],
   "source": [
    "x = [1, 1, 1]\n",
    "y = [1, 2, 3]\n",
    "print(x + y)"
   ]
  },
  {
   "cell_type": "code",
   "execution_count": null,
   "id": "387b3fb1",
   "metadata": {},
   "outputs": [],
   "source": [
    "x = [1, 2, 3]\n",
    "print(2 * x)"
   ]
  },
  {
   "cell_type": "markdown",
   "id": "fd7b9b71",
   "metadata": {},
   "source": [
    "Instead of adding or multiplying the values within each list of numbers, Python lists get concatenated with the `+` command or repeated by the specified number of times with the `*` command. In that way, Python lists act like strings, not arrays of numbers.\n",
    "\n",
    "If you are coming from a background where you mostly use Matlab or IDL for calculations, this can be a source of annoyance. We will have to use an external library, [**Numpy**](https://numpy.org/), to create numerical arrays. It takes a little bit more typing to create arrays of numbers, but you get a whole library of useful (and optimized) methods for doing mathematical operations on multi-dimensional arrays."
   ]
  },
  {
   "cell_type": "markdown",
   "id": "8f504429",
   "metadata": {},
   "source": [
    "## More resources for introductory Python\n",
    "\n",
    "* [Python.org: An Informal Introduction to Python](https://docs.python.org/3/tutorial/introduction.html)\n",
    "\n",
    "* [Programmiz: Python Datatypes](https://www.programiz.com/python-programming/numbers)\n",
    "\n",
    "* [Tutorialspoint: Python Strings](https://www.tutorialspoint.com/python/python_strings.htm) -- describes string formating, special chracters, and Python's built-in library for manipulating strings\n",
    "\n",
    "* [RealPython.org: When to Use a List Comprehension in Python](https://realpython.com/list-comprehension-python/) -- a fast way to build lists in one line, which occasionally comes in handy"
   ]
  },
  {
   "cell_type": "markdown",
   "id": "9eb49b2f",
   "metadata": {},
   "source": [
    "# 2. Name spaces\n",
    "\n",
    "Now we are ready to access our first external Python library -- Numpy! Before doing so, let's talk about namespaces and all of the different ways you can import your code into your Python working environment.\n",
    "\n",
    "**What is a namespace?** \n",
    "\n",
    "A namespace is a \"collection of currently defined symbolic names along with information about the object that each name references\"\\[1\\]. You can think of it as all of the variable names defined for your current Python environment. When you open Python in your terminal or start a Jupyter Notebook, there are a large number of built-in functions and variables that are already defined by default. This is called the \"built-in\" namespace, and you can see what's there by printing `dir(__builtins__)`"
   ]
  },
  {
   "cell_type": "markdown",
   "id": "cf26fc27",
   "metadata": {},
   "source": [
    "## 2.1 Importing a library\n",
    "\n",
    "You can bring a new Python library into the namespace by using the `import` command. For instance, `import astropy` will load the entire Astropy library into your current working environment."
   ]
  },
  {
   "cell_type": "code",
   "execution_count": null,
   "id": "8653a9e6",
   "metadata": {},
   "outputs": [],
   "source": [
    "import astropy\n",
    "\n",
    "# Here I am using the Astropy constants package to print the mass of the Earth in grams, \n",
    "# using scientific notation with 1 decimal place, using the format string notation {:.1e}\n",
    "earth_mass = astropy.constants.M_earth\n",
    "print(\"Earth mass = \", earth_mass.to('g'))"
   ]
  },
  {
   "cell_type": "markdown",
   "id": "a57fe860",
   "metadata": {},
   "source": [
    "## 2.2 Importing specific modules or functions from a library\n",
    "\n",
    "In the above example, I imported an *entire* package library just to get at the values stored in one module (constants). If I don't need anything but that package, I can import that module only."
   ]
  },
  {
   "cell_type": "code",
   "execution_count": null,
   "id": "8f2bd5e4",
   "metadata": {},
   "outputs": [],
   "source": [
    "from astropy import constants\n",
    "\n",
    "earth_mass = constants.M_earth\n",
    "print(\"Earth mass = \", earth_mass.to('g'))"
   ]
  },
  {
   "cell_type": "markdown",
   "id": "5d055c8d",
   "metadata": {},
   "source": [
    "## 2.3 Creating an alias\n",
    "\n",
    "If it's package that I use a lot, and I want to make my code easier to read, I might choose to give that package a short nickname -- called an **alias**. \n",
    "\n",
    "Using an alias doesn't change the properties of the package you imported."
   ]
  },
  {
   "cell_type": "code",
   "execution_count": null,
   "id": "16898cfe",
   "metadata": {},
   "outputs": [],
   "source": [
    "import astropy.constants as c\n",
    "\n",
    "earth_mass = c.M_earth\n",
    "print(\"Earth mass = \", earth_mass.to('g'))"
   ]
  },
  {
   "cell_type": "markdown",
   "id": "02f15711",
   "metadata": {},
   "source": [
    "Just be careful not to accidentally write over that name by defining `c` to be something else, later on!"
   ]
  },
  {
   "cell_type": "code",
   "execution_count": null,
   "id": "193bdba9",
   "metadata": {},
   "outputs": [],
   "source": [
    "c = 1.e5 # speed of light, in km/s\n",
    "\n",
    "earth_mass_energy = c.M_earth * c**2 # Mass energy of the Earth, according to E = mc^2"
   ]
  },
  {
   "cell_type": "markdown",
   "id": "fd4a9e38",
   "metadata": {},
   "source": [
    "Some aliases are so frequently used that they have become a standard practice. For numpy, `np` is the most common alias you will see."
   ]
  },
  {
   "cell_type": "code",
   "execution_count": null,
   "id": "47f25ce7",
   "metadata": {},
   "outputs": [],
   "source": [
    "import numpy as np"
   ]
  },
  {
   "cell_type": "markdown",
   "id": "c3d9a0c5",
   "metadata": {},
   "source": [
    "Now I am ready to start performing math on arrays of numbers! I will use \"np\" as short-hand for numpy throughout my code and in this notebook."
   ]
  },
  {
   "cell_type": "markdown",
   "id": "468b41b9",
   "metadata": {},
   "source": [
    "## Resources\n",
    "\n",
    "\\[1\\] [RealPython.com: Namespaces and Scope](https://realpython.com/python-namespaces-scope/) -- includes examples for how variable names get treated when they are inside and outside of functions"
   ]
  },
  {
   "cell_type": "markdown",
   "id": "c1f3625d",
   "metadata": {},
   "source": [
    "# 3. Math with numpy"
   ]
  },
  {
   "cell_type": "markdown",
   "id": "7a7ff8d9",
   "metadata": {},
   "source": [
    "## 3.1 Defining numerical arrays\n",
    "\n",
    "To define an array of numbers, use `np.array`, then define the values of your array inside square brackets.\n",
    "\n",
    "In the example below, multiplying my array by 2 applies this operation to each element of the array. Compare this to the behavior of multiplying lists by an integer number, above."
   ]
  },
  {
   "cell_type": "code",
   "execution_count": null,
   "id": "bac98ab5",
   "metadata": {},
   "outputs": [],
   "source": [
    "my_array = np.array([1., 2., 3.])\n",
    "print(my_array * 2)"
   ]
  },
  {
   "cell_type": "markdown",
   "id": "fc380575",
   "metadata": {},
   "source": [
    "If you started programming in Fortran or C, you might be used to building and filling numerical arrays by looping over every index. This type of operation is *highly inefficient* in Python, and can cause a lot of headaches for people who are trying to make the switch.\n",
    "\n",
    "Python for-loops are inefficient because of the interpreted, object-oriented nature of the language. At each step in the loop, Python is performing type-checks and other hidden processes that make it significantly slower than compiled languages like Fortran or C.\n",
    "\n",
    "Fortunately, numpy is optimized to perform common mathematical operations as fast as possible. So there are a lot of built in numerical functions that eliminate the need for mathematical for-loops in Python. If some one tells you to \"vectorize\" your code, they are telling you to replace your for-loops with numpy arrays and apply numpy functions to those arrays.\n",
    "\n",
    "Here is a simple example of initializing an array of ones using the for-loop versus the numpy approach. I will measure the efficiency of my code using the IPython magic command, `%%timeit`, which measures the average time it takes to execute the code in that block."
   ]
  },
  {
   "cell_type": "code",
   "execution_count": null,
   "id": "4e8790dd",
   "metadata": {},
   "outputs": [],
   "source": [
    "N = 100 # length of array I want to build"
   ]
  },
  {
   "cell_type": "code",
   "execution_count": null,
   "id": "0871e5d5",
   "metadata": {},
   "outputs": [],
   "source": [
    "%%timeit\n",
    "\n",
    "# Method 1: Create an empty list, append the value 1 to that list N times, then convert the list to a numpy array\n",
    "list_array = []\n",
    "for i in range(N):\n",
    "    list_array.append(1.0)\n",
    "\n",
    "result = np.array(list_array)"
   ]
  },
  {
   "cell_type": "code",
   "execution_count": null,
   "id": "7adb91db",
   "metadata": {},
   "outputs": [],
   "source": [
    "%%timeit\n",
    "\n",
    "# Method 2: Create a numpy array of zeros, then loop through each element to set it to the value I want, which is 1\n",
    "result = np.zeros(N)\n",
    "for i in range(len(result)):\n",
    "    result[i] = 1.0"
   ]
  },
  {
   "cell_type": "code",
   "execution_count": null,
   "id": "a0e099d6",
   "metadata": {},
   "outputs": [],
   "source": [
    "%%timeit\n",
    "\n",
    "# Method 3: Use the numpy function `ones` to create an array where each element is set to 1\n",
    "result = np.ones(N)"
   ]
  },
  {
   "cell_type": "markdown",
   "id": "4c2786f3",
   "metadata": {},
   "source": [
    "Depending on your machine and/or numpy and python versions, you'll see that using the built-in numpy function `np.ones` is 3-6 times faster than using a for-loop to set all of the values of an array to 1."
   ]
  },
  {
   "cell_type": "markdown",
   "id": "a605b754",
   "metadata": {},
   "source": [
    "**Exercise:** Use `%%timeit` to test the efficiency of calculating the mathematical quantity $n! = n \\times (n-1) \\times (n-2) ... \\times 1$ using a for-loop versus using a numpy array.\n",
    "\n",
    "The numpy factorial function is `np.math.factorial`. You might also take advantage of built-in Python object `range` or the function `np.arange` to create your for-loop. Which one yields a faster for-loop?"
   ]
  },
  {
   "cell_type": "code",
   "execution_count": null,
   "id": "7f70278c",
   "metadata": {},
   "outputs": [],
   "source": []
  },
  {
   "cell_type": "code",
   "execution_count": null,
   "id": "db9f47b1",
   "metadata": {},
   "outputs": [],
   "source": []
  },
  {
   "cell_type": "markdown",
   "id": "32a3cfd2",
   "metadata": {},
   "source": [
    "### Resources\n",
    "\n",
    "* [Jake VanderPlas: Why Python is slow](http://jakevdp.github.io/blog/2014/05/09/why-python-is-slow/) -- for a deep dive into Python inefficiencies\n",
    "* [IPython documentation: Built-in magic commands](https://ipython.readthedocs.io/en/stable/interactive/magics.html) -- search this for the %timeit command, and other useful IPython \"magic\""
   ]
  },
  {
   "cell_type": "markdown",
   "id": "e2926b51",
   "metadata": {},
   "source": [
    "## 3.2 Indexing and slicing multi-dimensonal numpy arrays\n",
    "\n",
    "Note that Python indexes values starting from 0, so x[0] gives you the first element of array x, x[1] gives the second value, and so on."
   ]
  },
  {
   "cell_type": "code",
   "execution_count": null,
   "id": "1a12b683",
   "metadata": {},
   "outputs": [],
   "source": [
    "count_to_ten = np.arange(10) # array of whole number values, 0-9\n",
    "print(count_to_ten)"
   ]
  },
  {
   "cell_type": "code",
   "execution_count": null,
   "id": "bf8aff2f",
   "metadata": {},
   "outputs": [],
   "source": [
    "count_to_ten[0]"
   ]
  },
  {
   "cell_type": "code",
   "execution_count": null,
   "id": "cf18e830",
   "metadata": {},
   "outputs": [],
   "source": [
    "count_to_ten[1]"
   ]
  },
  {
   "cell_type": "markdown",
   "id": "135d7247",
   "metadata": {},
   "source": [
    "You can select a sub-section of a numpy array with bracket notation, called a \"slice\". A slice is defined by three values: starting index, ending index, and step size.\n",
    "\n",
    "In the following example, I select even numbers between 10 and 20 using an array of whole number values from 0 to 99."
   ]
  },
  {
   "cell_type": "code",
   "execution_count": null,
   "id": "b7348d0a",
   "metadata": {},
   "outputs": [],
   "source": [
    "count_to_onehundred = np.arange(100) # array of whole number values, 0-99\n",
    "print(count_to_onehundred[10:20:2])"
   ]
  },
  {
   "cell_type": "markdown",
   "id": "342f0d4a",
   "metadata": {},
   "source": [
    "Note from the example above that the starting index is included, but the ending index does not. Let's see that in practice, again. This time, I am going to leave the start index empty, indicating that I want to see everything *up to but not including* index 10 in the array."
   ]
  },
  {
   "cell_type": "code",
   "execution_count": null,
   "id": "3872751c",
   "metadata": {},
   "outputs": [],
   "source": [
    "print(count_to_onehundred[:10])"
   ]
  },
  {
   "cell_type": "markdown",
   "id": "140db0d9",
   "metadata": {},
   "source": [
    "There are instances where you may care about what is happening at the end of your array. For convenience, Python allows you to index from the end-point of the array using negative numbers."
   ]
  },
  {
   "cell_type": "code",
   "execution_count": null,
   "id": "b856cef1",
   "metadata": {},
   "outputs": [],
   "source": [
    "print(count_to_onehundred[-1]) # returns the last index of the array"
   ]
  },
  {
   "cell_type": "code",
   "execution_count": null,
   "id": "2645a7a9",
   "metadata": {},
   "outputs": [],
   "source": [
    "print(count_to_onehundred[-10:]) # returns the last 10 values of the array"
   ]
  },
  {
   "cell_type": "markdown",
   "id": "6d06bffa",
   "metadata": {},
   "source": [
    "You can create multi-dimensional arrays by nesting lists in brackets. Here is an example of creating a 2-D array by hand in numpy."
   ]
  },
  {
   "cell_type": "code",
   "execution_count": null,
   "id": "26569551",
   "metadata": {},
   "outputs": [],
   "source": [
    "example_2d = np.array([[1, 1, 1],\n",
    "                       [2, 2, 2],\n",
    "                       [3, 3, 3],\n",
    "                       [4, 4, 4]])"
   ]
  },
  {
   "cell_type": "markdown",
   "id": "c2c9ebff",
   "metadata": {},
   "source": [
    "We can view the dimensions of the array using the `shape` attribute."
   ]
  },
  {
   "cell_type": "code",
   "execution_count": null,
   "id": "085a3b98",
   "metadata": {},
   "outputs": [],
   "source": [
    "print(example_2d.shape)"
   ]
  },
  {
   "cell_type": "markdown",
   "id": "c1bb72ff",
   "metadata": {},
   "source": [
    "With the print statement above, we can see that the array has dimensions 4x3 so that the first (0th) dimension has length 4 and the second (1st) dimension has length 3.\n",
    "\n",
    "What happens if we print the length of the array?"
   ]
  },
  {
   "cell_type": "code",
   "execution_count": null,
   "id": "4851ea81",
   "metadata": {},
   "outputs": [],
   "source": [
    "print(len(example_2d))"
   ]
  },
  {
   "cell_type": "markdown",
   "id": "7a5991bb",
   "metadata": {},
   "source": [
    "We only see the length of the first (0th) dimension! This is something to watch out for.\n",
    "\n",
    "Now, let's say I want to do something with a single row of the array. I can use the same indexing and slicing notation as I did with the 1-D array, but I can index each dimension individually, using a comma to separate my slices."
   ]
  },
  {
   "cell_type": "code",
   "execution_count": null,
   "id": "03d90619",
   "metadata": {},
   "outputs": [],
   "source": [
    "# Print the first item (column 0) in the second row (row 1)\n",
    "print(example_2d[1,0])"
   ]
  },
  {
   "cell_type": "code",
   "execution_count": null,
   "id": "1bfdd50d",
   "metadata": {},
   "outputs": [],
   "source": [
    "# Print the first row\n",
    "print(example_2d[0,:])"
   ]
  },
  {
   "cell_type": "code",
   "execution_count": null,
   "id": "9fb19db5",
   "metadata": {},
   "outputs": [],
   "source": [
    "# Print the first column\n",
    "print(example_2d[:,0])"
   ]
  },
  {
   "cell_type": "code",
   "execution_count": null,
   "id": "301271a4",
   "metadata": {},
   "outputs": [],
   "source": [
    "# Print everything except the first row\n",
    "print(example_2d[1:,:])"
   ]
  },
  {
   "cell_type": "markdown",
   "id": "35279ea8",
   "metadata": {},
   "source": [
    "## 3.3 Filtering arrays\n",
    "\n",
    "I have noticed a lot of people coming to Python from IDL naturally find the `np.where` function and use it liberally to filter arrays. Note that it returns the array where the logic condition is met. [See the `np.where`  documentation](https://numpy.org/doc/stable/reference/generated/numpy.where.html) to understand the full power of this function."
   ]
  },
  {
   "cell_type": "code",
   "execution_count": null,
   "id": "e5b9497d",
   "metadata": {},
   "outputs": [],
   "source": [
    "np.where(count_to_onehundred >= 50)"
   ]
  },
  {
   "cell_type": "markdown",
   "id": "61b40020",
   "metadata": {},
   "source": [
    "Note that the above function call returns two values: the filtered numpy array, followed by nothing (which in Python, is the object `None`). So if we only wanted the filtered array, we would need to store it like this:"
   ]
  },
  {
   "cell_type": "code",
   "execution_count": null,
   "id": "2c20425e",
   "metadata": {},
   "outputs": [],
   "source": [
    "filtered_array = np.where(count_to_onehundred >= 50)[0]\n",
    "print(filtered_array)"
   ]
  },
  {
   "cell_type": "markdown",
   "id": "c6128195",
   "metadata": {},
   "source": [
    "If you have multiple arrays, such as 1-D x and y values for a graph, and you want to filter the information based on the values in x, my personal preference is to create boolean arrays. These are arrays of True/False values that you can apply to numpy arrays in the same way you would with slices."
   ]
  },
  {
   "cell_type": "code",
   "execution_count": null,
   "id": "c23a2820",
   "metadata": {},
   "outputs": [],
   "source": [
    "# Filter for the numbers between 20 and 30, inclusive\n",
    "ii = (count_to_onehundred >= 20) & (count_to_onehundred <= 30)\n",
    "print(ii)\n",
    "print(count_to_onehundred[ii])"
   ]
  },
  {
   "cell_type": "markdown",
   "id": "5dd4b4ca",
   "metadata": {},
   "source": [
    "**Exercise:** Filter the `count_to_onehundred` array to print values between 20 and 30, inclusive, using `np.where`"
   ]
  },
  {
   "cell_type": "code",
   "execution_count": null,
   "id": "9898680c",
   "metadata": {},
   "outputs": [],
   "source": []
  },
  {
   "cell_type": "markdown",
   "id": "8b9f3a53",
   "metadata": {},
   "source": [
    "**Exercise:** Filter the `count_to_onehundred` array to print values > 50, without saving the boolean array to a new variable name."
   ]
  },
  {
   "cell_type": "code",
   "execution_count": null,
   "id": "b665ef79",
   "metadata": {},
   "outputs": [],
   "source": []
  },
  {
   "cell_type": "markdown",
   "id": "5c1e1776",
   "metadata": {},
   "source": [
    "**Exercise:** Which technique is fastest?"
   ]
  },
  {
   "cell_type": "code",
   "execution_count": null,
   "id": "3913c514",
   "metadata": {},
   "outputs": [],
   "source": []
  },
  {
   "cell_type": "code",
   "execution_count": null,
   "id": "f13aaba7",
   "metadata": {},
   "outputs": [],
   "source": []
  },
  {
   "cell_type": "markdown",
   "id": "68add7b7",
   "metadata": {},
   "source": [
    "## Useful numpy functions\n",
    "\n",
    "Numpy is full of useful functions that can help you avoid for-loops. Let's look at something simple, like summing data with `np.sum`, operating on the 2D array I created earlier.\n",
    "\n",
    "As a reminder, the array looks like this:"
   ]
  },
  {
   "cell_type": "code",
   "execution_count": null,
   "id": "3f9a0ac7",
   "metadata": {},
   "outputs": [],
   "source": [
    "print(example_2d)"
   ]
  },
  {
   "cell_type": "markdown",
   "id": "14de04c5",
   "metadata": {},
   "source": [
    "Here's what happens when I run `np.sum` on this array:"
   ]
  },
  {
   "cell_type": "code",
   "execution_count": null,
   "id": "f809c195",
   "metadata": {},
   "outputs": [],
   "source": [
    "print(np.sum(example_2d))"
   ]
  },
  {
   "cell_type": "markdown",
   "id": "1ed5c7dc",
   "metadata": {},
   "source": [
    "But what if I didn't want the sum of the *entire* array. What if I wanted the sum of all the columns?\n",
    "\n",
    "We can tell `np.sum` to perform the summation over one axis and not the other using the `axis=` keyword. In our case, the columns are the 0th axis and the rows are the 1st axis. (Remember: Python starts indexing at 0)"
   ]
  },
  {
   "cell_type": "code",
   "execution_count": null,
   "id": "9d5c3280",
   "metadata": {},
   "outputs": [],
   "source": [
    "print(np.sum(example_2d, axis=0))"
   ]
  },
  {
   "cell_type": "markdown",
   "id": "2839f46e",
   "metadata": {},
   "source": [
    "**Exercise:** How would you use `np.sum` to sum over the rows, instead of columns? What is the shape of the result?"
   ]
  },
  {
   "cell_type": "code",
   "execution_count": null,
   "id": "7cf8a3a9",
   "metadata": {},
   "outputs": [],
   "source": []
  },
  {
   "cell_type": "markdown",
   "id": "1eaa0847",
   "metadata": {},
   "source": [
    "**Exercise:** How would you write a for-loop to sum over the columns of the `example_2d` array? Use %%timeit to see which is faster, `np.sum` or your for-loop."
   ]
  },
  {
   "cell_type": "code",
   "execution_count": null,
   "id": "ed5abc9f",
   "metadata": {},
   "outputs": [],
   "source": []
  },
  {
   "cell_type": "markdown",
   "id": "1337e171",
   "metadata": {},
   "source": [
    "### A list of useful numpy functions (that I use all the time)\n",
    "\n",
    "* Statistical properties of an array: `np.mean`, `np.std`, `np.percentile`\n",
    "* A simple interpolator: `np.interp`\n",
    "* Building and working with histograms: `np.histogram`, `np.histogram2d`\n",
    "* Numerical integration: `np.trapz` (trapezoidal method)\n",
    "\n",
    "**Scipy provides libraries of more advanced operations for scientific computing. Check out:**\n",
    "\n",
    "* [scipy.interpolate](https://docs.scipy.org/doc/scipy/reference/interpolate.html)\n",
    "* [scipy.integrate](https://docs.scipy.org/doc/scipy/tutorial/integrate.html)\n",
    "\n",
    "\n",
    "The best way to look up Numpy and Scipy documentation is to search on the function call. For example, the first thing that pops up on Google when I search \"numpy.trapz\" is [https://numpy.org/doc/stable/reference/generated/numpy.trapz.html](https://numpy.org/doc/stable/reference/generated/numpy.trapz.html)."
   ]
  },
  {
   "cell_type": "markdown",
   "id": "49e6e9df",
   "metadata": {},
   "source": [
    "# Defining functions + Docstrings"
   ]
  },
  {
   "cell_type": "code",
   "execution_count": null,
   "id": "36a7c11d",
   "metadata": {},
   "outputs": [],
   "source": []
  },
  {
   "cell_type": "code",
   "execution_count": null,
   "id": "15f802c8",
   "metadata": {},
   "outputs": [],
   "source": []
  },
  {
   "cell_type": "code",
   "execution_count": null,
   "id": "fea48cb6",
   "metadata": {},
   "outputs": [],
   "source": []
  },
  {
   "cell_type": "code",
   "execution_count": null,
   "id": "e01d36c7",
   "metadata": {},
   "outputs": [],
   "source": []
  },
  {
   "cell_type": "markdown",
   "id": "9c580407",
   "metadata": {},
   "source": [
    "# Scripting in Python"
   ]
  },
  {
   "cell_type": "code",
   "execution_count": null,
   "id": "44479311",
   "metadata": {},
   "outputs": [],
   "source": []
  }
 ],
 "metadata": {
  "kernelspec": {
   "display_name": "Python 3 (ipykernel)",
   "language": "python",
   "name": "python3"
  },
  "language_info": {
   "codemirror_mode": {
    "name": "ipython",
    "version": 3
   },
   "file_extension": ".py",
   "mimetype": "text/x-python",
   "name": "python",
   "nbconvert_exporter": "python",
   "pygments_lexer": "ipython3",
   "version": "3.9.7"
  }
 },
 "nbformat": 4,
 "nbformat_minor": 5
}
