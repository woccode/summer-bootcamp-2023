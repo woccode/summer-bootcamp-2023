{
 "cells": [
  {
   "cell_type": "markdown",
   "id": "aac45030",
   "metadata": {},
   "source": [
    "# What makes Python popular\n",
    "\n",
    "* Relatively easy to read (white space instead of punctuation)\n",
    "\n",
    "* Object-oriented programming is built in to every aspect of Python (more on this soon)\n",
    "\n",
    "* A strong \"front end\" language -- useful for calculations, scientific inference and interpreting results, but can quickly become inefficient for hefty numerical tasks (like hydrodynamical simulations). For numerically intensive projects, good coding choices are required, and you may need to use special libraries that assist Python with speed (e.g., cython, numba).\n",
    "\n",
    "* A large number of users with strong open source communities -- leading to a proliferation of widely useful packages (numpy, scipy, scikit, pytorch, pandas, seaborn, astropy, pymc3)"
   ]
  },
  {
   "cell_type": "markdown",
   "id": "90611b1c",
   "metadata": {},
   "source": [
    "# 1. Built-in Python objects"
   ]
  },
  {
   "cell_type": "markdown",
   "id": "702d2182",
   "metadata": {},
   "source": [
    "## 1.1 Floats and Integers\n",
    "\n",
    "Python numbers can be integers (whole numbers) or floats (numbers with decimals).\n",
    "\n",
    "You can always check the type of your number by using the `type()` function."
   ]
  },
  {
   "cell_type": "code",
   "execution_count": 1,
   "id": "c9dbbde2",
   "metadata": {},
   "outputs": [
    {
     "data": {
      "text/plain": [
       "int"
      ]
     },
     "execution_count": 1,
     "metadata": {},
     "output_type": "execute_result"
    }
   ],
   "source": [
    "type(1)"
   ]
  },
  {
   "cell_type": "code",
   "execution_count": 2,
   "id": "a4cce55d",
   "metadata": {},
   "outputs": [
    {
     "data": {
      "text/plain": [
       "float"
      ]
     },
     "execution_count": 2,
     "metadata": {},
     "output_type": "execute_result"
    }
   ],
   "source": [
    "type(1.)"
   ]
  },
  {
   "cell_type": "markdown",
   "id": "f57f7d07",
   "metadata": {},
   "source": [
    "You can also define floats with scientific notation, using the character `e`. Any number defined in this way will be stored as a float, even if you don't use a decimal."
   ]
  },
  {
   "cell_type": "code",
   "execution_count": 3,
   "id": "b9118510",
   "metadata": {},
   "outputs": [
    {
     "data": {
      "text/plain": [
       "float"
      ]
     },
     "execution_count": 3,
     "metadata": {},
     "output_type": "execute_result"
    },
    {
     "data": {
      "text/plain": [
       "float"
      ]
     },
     "execution_count": 3,
     "metadata": {},
     "output_type": "execute_result"
    }
   ],
   "source": [
    "type(1e3)"
   ]
  },
  {
   "cell_type": "markdown",
   "id": "6e0f9375",
   "metadata": {},
   "source": [
    "Dividing two integers always returns a float."
   ]
  },
  {
   "cell_type": "code",
   "execution_count": 4,
   "id": "7a472281",
   "metadata": {},
   "outputs": [
    {
     "data": {
      "text/plain": [
       "2.0"
      ]
     },
     "execution_count": 4,
     "metadata": {},
     "output_type": "execute_result"
    }
   ],
   "source": [
    "4/2"
   ]
  },
  {
   "cell_type": "code",
   "execution_count": null,
   "id": "b71198a6",
   "metadata": {},
   "outputs": [],
   "source": [
    "type(4/2)"
   ]
  },
  {
   "cell_type": "markdown",
   "id": "ac8b28f1",
   "metadata": {},
   "source": [
    "If you want the integer result from a division, use this special notation."
   ]
  },
  {
   "cell_type": "code",
   "execution_count": 6,
   "id": "4e11b3a4",
   "metadata": {},
   "outputs": [
    {
     "data": {
      "text/plain": [
       "2"
      ]
     },
     "execution_count": 6,
     "metadata": {},
     "output_type": "execute_result"
    }
   ],
   "source": [
    "4//2"
   ]
  },
  {
   "cell_type": "code",
   "execution_count": 7,
   "id": "a9c417a8",
   "metadata": {},
   "outputs": [
    {
     "data": {
      "text/plain": [
       "int"
      ]
     },
     "execution_count": 7,
     "metadata": {},
     "output_type": "execute_result"
    }
   ],
   "source": [
    "type(4//2)"
   ]
  },
  {
   "cell_type": "markdown",
   "id": "b6660f73",
   "metadata": {},
   "source": [
    "The available range of values depends on the amount of space used to store the number. Most machines these days are \"64-bit\", meaning that, by default, numbers receive 64 bits of storage. Bits take on the value \"0\" or \"1\", and describe the value of a number using base 2 notation (e.g., 00 = 0, 01 = 1, 10 = 2, 11 = 3) So if we only had 8-bits available to store the value of an integer, the maximum value we could store is (2^8 - 1) = 255.\n",
    "\n",
    "Python hides a lot of these details from users. [Python changes the amount of storage space that is taken up by an integer, depending on the value.](https://www.pythontutorial.net/advanced-python/python-integers/) So it will take one bit to store the value 0 or 1, two bits to store the values 3 or 4, and so on. For values larger than 2^64-1, Python will do the book-keeping to store each index of the integer separately. So there is no limit to the integer value you can use in Python. To do this, Python integers are actually objects! (More on what this means soon)"
   ]
  },
  {
   "cell_type": "code",
   "execution_count": 8,
   "id": "c7f33e25",
   "metadata": {},
   "outputs": [
    {
     "data": {
      "text/plain": [
       "int"
      ]
     },
     "execution_count": 8,
     "metadata": {},
     "output_type": "execute_result"
    }
   ],
   "source": [
    "type(-1000)"
   ]
  },
  {
   "cell_type": "code",
   "execution_count": 9,
   "id": "4f4fc77e",
   "metadata": {},
   "outputs": [
    {
     "data": {
      "text/plain": [
       "int"
      ]
     },
     "execution_count": 9,
     "metadata": {},
     "output_type": "execute_result"
    }
   ],
   "source": [
    "type(999999999999999999999999999999999999999999999)"
   ]
  },
  {
   "cell_type": "markdown",
   "id": "38686d77",
   "metadata": {},
   "source": [
    "![How floats are stored in computer memory - from log2base2.com]\n",
    "(https://www.log2base2.com/images/storage/how-float-values-are-stored-in-memory.png)\n",
    "\n",
    "Python floats are what C programmers call \"doubles\", which are 64-bit representations of signed numbers in scientific notation. 1 bit stores the sign (+ or -), 11 bits store the value of the exponent in scientific notation, and 52 bits store the value before the exponent. This means that the largest value that can be stored is on the order of 10^((2^10) - 1) = 10^1023\n",
    "\n",
    "Let's see what happens when we try to create a float with a value larger than this."
   ]
  },
  {
   "cell_type": "code",
   "execution_count": 10,
   "id": "6a50e47b",
   "metadata": {},
   "outputs": [
    {
     "data": {
      "text/plain": [
       "inf"
      ]
     },
     "execution_count": 10,
     "metadata": {},
     "output_type": "execute_result"
    }
   ],
   "source": [
    "1.e1024"
   ]
  },
  {
   "cell_type": "markdown",
   "id": "c64acb3d",
   "metadata": {},
   "source": [
    "And here we get to something unique about Python -- the ability to natively represent and handle abstract mathematical concepts such as infinity. Adding, subtracting, multiplying or dividing anything by infinity gives infinity. You are also able to define infinity as being positive or negative."
   ]
  },
  {
   "cell_type": "code",
   "execution_count": 11,
   "id": "0574d163",
   "metadata": {},
   "outputs": [
    {
     "data": {
      "text/plain": [
       "inf"
      ]
     },
     "execution_count": 11,
     "metadata": {},
     "output_type": "execute_result"
    }
   ],
   "source": [
    "1.e1024 + 1."
   ]
  },
  {
   "cell_type": "code",
   "execution_count": 12,
   "id": "fc25deb6",
   "metadata": {},
   "outputs": [
    {
     "data": {
      "text/plain": [
       "-inf"
      ]
     },
     "execution_count": 12,
     "metadata": {},
     "output_type": "execute_result"
    }
   ],
   "source": [
    "-1.e1024"
   ]
  },
  {
   "cell_type": "markdown",
   "id": "c74ac3f7",
   "metadata": {},
   "source": [
    "## 1.2 More native Python objects\n",
    "\n",
    "As described in some of the details of integers and floats, above, we see that Python is doing a lot of work in the background (back-end) to provide a seamless user experience (front-end). This is because Python is inherently object-oriented -- every value you create in Python is an \"object\" that has special rules governing how they interact with other objects. \n",
    "\n",
    "Integers and floats are `int` and `float` type objects, as described above. Some other very useful Python objects are strings, lists and dictionaries."
   ]
  },
  {
   "cell_type": "markdown",
   "id": "c90e3c89",
   "metadata": {},
   "source": [
    "### Strings\n",
    "\n",
    "Python strings are non-mathematical collections of alpha-numeric characters. They can be defined with single or double quotation marks. Like numbers, string objects have rules for addition and multiplication."
   ]
  },
  {
   "cell_type": "code",
   "execution_count": 13,
   "id": "9625470b",
   "metadata": {},
   "outputs": [
    {
     "data": {
      "text/plain": [
       "(str, str)"
      ]
     },
     "execution_count": 13,
     "metadata": {},
     "output_type": "execute_result"
    }
   ],
   "source": [
    "type('a'), type(\"bc\")"
   ]
  },
  {
   "cell_type": "code",
   "execution_count": 14,
   "id": "da5f95e3",
   "metadata": {},
   "outputs": [
    {
     "data": {
      "text/plain": [
       "'abc'"
      ]
     },
     "execution_count": 14,
     "metadata": {},
     "output_type": "execute_result"
    }
   ],
   "source": [
    "'a' + 'bc'"
   ]
  },
  {
   "cell_type": "code",
   "execution_count": 15,
   "id": "0dbc745c",
   "metadata": {},
   "outputs": [
    {
     "data": {
      "text/plain": [
       "'abcabcabc'"
      ]
     },
     "execution_count": 15,
     "metadata": {},
     "output_type": "execute_result"
    }
   ],
   "source": [
    "'abc' * 3"
   ]
  },
  {
   "cell_type": "markdown",
   "id": "8b80fb4c",
   "metadata": {},
   "source": [
    "There is a wide variety of operations one can perform on Python strings, which we don't have time to cover in this workshop! See the resources list at the end of this section for links to tutorial sites that cover Python strings,  other Python objects noted in this tutorial, and more Python objects not covered."
   ]
  },
  {
   "cell_type": "markdown",
   "id": "25f63f19",
   "metadata": {},
   "source": [
    "### Dictionaries + logic statements, print formatting, and zip\n",
    "\n",
    "Dictionaries are sets of key-value pairs. I find them handy when I am working with multiple datasets of the same general type, because I can assign each a label and then perform operations on them in sequence.\n",
    "\n",
    "Dictionary keys and values can be *any* type of Python object. You can use curly brackets to initiate a dictionary, where key-value pairs are separated by a colon."
   ]
  },
  {
   "cell_type": "code",
   "execution_count": 17,
   "id": "d0a4fad8",
   "metadata": {},
   "outputs": [
    {
     "name": "stdout",
     "output_type": "stream",
     "text": [
      "a : 1\n",
      "b : 2\n",
      "c : 3\n",
      "-1 : do re mi\n"
     ]
    }
   ],
   "source": [
    "my_dictionary = {'a':1, 'b':2, 'c':3, -1:'do re mi'}\n",
    "\n",
    "for k in my_dictionary.keys():\n",
    "    print(k, ':', my_dictionary[k])"
   ]
  },
  {
   "cell_type": "markdown",
   "id": "657062a3",
   "metadata": {},
   "source": [
    "Here is a logic statement that will test if a desired label is in my dictionary. Logic statements return a boolean Python object (bool), that is `True` or `False`."
   ]
  },
  {
   "cell_type": "code",
   "execution_count": 18,
   "id": "49ddc03d",
   "metadata": {},
   "outputs": [
    {
     "name": "stdout",
     "output_type": "stream",
     "text": [
      "True\n"
     ]
    }
   ],
   "source": [
    "print( 'a' in my_dictionary.keys() )"
   ]
  },
  {
   "cell_type": "code",
   "execution_count": 19,
   "id": "5f164fe9",
   "metadata": {},
   "outputs": [
    {
     "name": "stdout",
     "output_type": "stream",
     "text": [
      "False\n"
     ]
    }
   ],
   "source": [
    "print( 10 in my_dictionary.keys() )"
   ]
  },
  {
   "cell_type": "markdown",
   "id": "a8b77d05",
   "metadata": {},
   "source": [
    "We can use `if` and `else` statements to do something with a logic test. Note the special syntax I am using to insert the test value into a string."
   ]
  },
  {
   "cell_type": "code",
   "execution_count": 20,
   "id": "f0ed83f4",
   "metadata": {},
   "outputs": [
    {
     "name": "stdout",
     "output_type": "stream",
     "text": [
      "Key not found\n"
     ]
    }
   ],
   "source": [
    "my_test_key = 'd'\n",
    "\n",
    "if my_test_key in my_dictionary.keys():\n",
    "    print(\"{} is in my_dictionary\".format(my_test_key))\n",
    "else:\n",
    "    print(\"Key not found\")"
   ]
  },
  {
   "cell_type": "markdown",
   "id": "479d6745",
   "metadata": {},
   "source": [
    "**Exercise**: Change the code above to make the logic test pass."
   ]
  },
  {
   "cell_type": "markdown",
   "id": "faca630a",
   "metadata": {},
   "source": [
    "**Efficiency tip:** You can make a dictionary very quickly using the `zip` function in Python. Zip pairs objects one-for-one in the order they are specified. I find this useful for assigning information to labels that I will use over and over again."
   ]
  },
  {
   "cell_type": "code",
   "execution_count": 21,
   "id": "418a073d",
   "metadata": {},
   "outputs": [
    {
     "name": "stdout",
     "output_type": "stream",
     "text": [
      "dataset_A.txt will be plotted in red\n",
      "dataset_B.txt will be plotted in cyan\n",
      "dataset_C.txt will be plotted in magenta\n"
     ]
    }
   ],
   "source": [
    "labels = ['A', 'B', 'C']\n",
    "filenames = ['dataset_A.txt', 'dataset_B.txt', 'dataset_C.txt']\n",
    "colors = ['red', 'cyan', 'magenta']\n",
    "\n",
    "data_files = dict(zip(labels, filenames))\n",
    "plot_colors = dict(zip(labels, colors))\n",
    "\n",
    "for k in labels:\n",
    "    print(\"{} will be plotted in {}\".format(data_files[k], plot_colors[k]))"
   ]
  },
  {
   "cell_type": "markdown",
   "id": "0302ca20",
   "metadata": {},
   "source": [
    "### Lists\n",
    "\n",
    "Lists are a sequence of objects. They don't have to be the same type of object -- Python doesn't care! The sequence is iterable, meaning that we can use a Python `for` loop to perform on operation on the sequence one-by-one."
   ]
  },
  {
   "cell_type": "code",
   "execution_count": 22,
   "id": "2d587904",
   "metadata": {},
   "outputs": [
    {
     "name": "stdout",
     "output_type": "stream",
     "text": [
      "<class 'int'> : 1\n",
      "<class 'int'> : 2\n",
      "<class 'float'> : 3.0\n",
      "<class 'str'> : a\n",
      "<class 'str'> : b\n",
      "<class 'str'> : c\n"
     ]
    }
   ],
   "source": [
    "x = [1, 2, 3., 'a', 'b', 'c']\n",
    "\n",
    "for obj in x:\n",
    "    print(type(obj), \":\", obj)"
   ]
  },
  {
   "cell_type": "markdown",
   "id": "6a30c343",
   "metadata": {},
   "source": [
    "It's important to note that you cannot perform math on Python lists! **The rules governing Python lists are entirely different from an array of numbers.** See the following cells, for example."
   ]
  },
  {
   "cell_type": "code",
   "execution_count": 23,
   "id": "e38a57e0",
   "metadata": {},
   "outputs": [
    {
     "name": "stdout",
     "output_type": "stream",
     "text": [
      "[1, 1, 1, 1, 2, 3]\n"
     ]
    }
   ],
   "source": [
    "x = [1, 1, 1]\n",
    "y = [1, 2, 3]\n",
    "print(x + y)"
   ]
  },
  {
   "cell_type": "code",
   "execution_count": 24,
   "id": "387b3fb1",
   "metadata": {},
   "outputs": [
    {
     "name": "stdout",
     "output_type": "stream",
     "text": [
      "[1, 2, 3, 1, 2, 3]\n"
     ]
    }
   ],
   "source": [
    "x = [1, 2, 3]\n",
    "print(2 * x)"
   ]
  },
  {
   "cell_type": "markdown",
   "id": "fd7b9b71",
   "metadata": {},
   "source": [
    "Instead of adding or multiplying the values within each list of numbers, Python lists get concatenated with the `+` command or repeated by the specified number of times with the `*` command. In that way, Python lists act like strings, not arrays of numbers.\n",
    "\n",
    "If you are coming from a background where you mostly use Matlab or IDL for calculations, this can be a source of annoyance. We will have to use an external library, [**Numpy**](https://numpy.org/), to create numerical arrays. It takes a little bit more typing to create arrays of numbers, but you get a whole library of useful (and optimized) methods for doing mathematical operations on multi-dimensional arrays."
   ]
  },
  {
   "cell_type": "markdown",
   "id": "8f504429",
   "metadata": {},
   "source": [
    "## More resources for introductory Python\n",
    "\n",
    "* [Python.org: An Informal Introduction to Python](https://docs.python.org/3/tutorial/introduction.html)\n",
    "\n",
    "* [Programmiz: Python Datatypes](https://www.programiz.com/python-programming/numbers)\n",
    "\n",
    "* [Tutorialspoint: Python Strings](https://www.tutorialspoint.com/python/python_strings.htm) -- describes string formating, special chracters, and Python's built-in library for manipulating strings\n",
    "\n",
    "* [RealPython.org: When to Use a List Comprehension in Python](https://realpython.com/list-comprehension-python/) -- a fast way to build lists in one line, which occasionally comes in handy"
   ]
  },
  {
   "cell_type": "markdown",
   "id": "9eb49b2f",
   "metadata": {},
   "source": [
    "# 2. Name spaces\n",
    "\n",
    "Now we are ready to access our first external Python library -- Numpy! Before doing so, let's talk about namespaces and all of the different ways you can import your code into your Python working environment.\n",
    "\n",
    "**What is a namespace?** \n",
    "\n",
    "A namespace is a \"collection of currently defined symbolic names along with information about the object that each name references\"\\[1\\]. You can think of it as all of the variable names defined for your current Python environment. When you open Python in your terminal or start a Jupyter Notebook, there are a large number of built-in functions and variables that are already defined by default. This is called the \"built-in\" namespace, and you can see what's there by printing `dir(__builtins__)`"
   ]
  },
  {
   "cell_type": "markdown",
   "id": "cf26fc27",
   "metadata": {},
   "source": [
    "## 2.1 Importing a library\n",
    "\n",
    "You can bring a new Python library into the namespace by using the `import` command. For instance, `import astropy` will load the entire Astropy library into your current working environment."
   ]
  },
  {
   "cell_type": "code",
   "execution_count": 25,
   "id": "8653a9e6",
   "metadata": {},
   "outputs": [
    {
     "ename": "AttributeError",
     "evalue": "module 'astropy' has no attribute 'constants'",
     "output_type": "error",
     "traceback": [
      "\u001b[0;31m---------------------------------------------------------------------------\u001b[0m",
      "\u001b[0;31mAttributeError\u001b[0m                            Traceback (most recent call last)",
      "Cell \u001b[0;32mIn[25], line 5\u001b[0m\n\u001b[1;32m      1\u001b[0m \u001b[38;5;28;01mimport\u001b[39;00m \u001b[38;5;21;01mastropy\u001b[39;00m\n\u001b[1;32m      3\u001b[0m \u001b[38;5;66;03m# Here I am using the Astropy constants package to print the mass of the Earth in grams, \u001b[39;00m\n\u001b[1;32m      4\u001b[0m \u001b[38;5;66;03m# using scientific notation with 1 decimal place, using the format string notation {:.1e}\u001b[39;00m\n\u001b[0;32m----> 5\u001b[0m earth_mass \u001b[38;5;241m=\u001b[39m \u001b[43mastropy\u001b[49m\u001b[38;5;241;43m.\u001b[39;49m\u001b[43mconstants\u001b[49m\u001b[38;5;241m.\u001b[39mM_earth\n\u001b[1;32m      6\u001b[0m \u001b[38;5;28mprint\u001b[39m(\u001b[38;5;124m\"\u001b[39m\u001b[38;5;124mEarth mass = \u001b[39m\u001b[38;5;124m\"\u001b[39m, earth_mass\u001b[38;5;241m.\u001b[39mto(\u001b[38;5;124m'\u001b[39m\u001b[38;5;124mg\u001b[39m\u001b[38;5;124m'\u001b[39m))\n",
      "\u001b[0;31mAttributeError\u001b[0m: module 'astropy' has no attribute 'constants'"
     ]
    }
   ],
   "source": [
    "import astropy\n",
    "\n",
    "# Here I am using the Astropy constants package to print the mass of the Earth in grams, \n",
    "# using scientific notation with 1 decimal place, using the format string notation {:.1e}\n",
    "earth_mass = astropy.constants.M_earth\n",
    "print(\"Earth mass = \", earth_mass.to('g'))"
   ]
  },
  {
   "cell_type": "markdown",
   "id": "a57fe860",
   "metadata": {},
   "source": [
    "## 2.2 Importing specific modules or functions from a library\n",
    "\n",
    "In the above example, I imported an *entire* package library just to get at the values stored in one module (constants). If I don't need anything but that package, I can import that module only."
   ]
  },
  {
   "cell_type": "code",
   "execution_count": 26,
   "id": "8f2bd5e4",
   "metadata": {},
   "outputs": [
    {
     "name": "stdout",
     "output_type": "stream",
     "text": [
      "Earth mass =  5.972167867791379e+27 g\n"
     ]
    }
   ],
   "source": [
    "from astropy import constants\n",
    "\n",
    "earth_mass = constants.M_earth\n",
    "print(\"Earth mass = \", earth_mass.to('g'))"
   ]
  },
  {
   "cell_type": "markdown",
   "id": "5d055c8d",
   "metadata": {},
   "source": [
    "## 2.3 Creating an alias\n",
    "\n",
    "If it's package that I use a lot, and I want to make my code easier to read, I might choose to give that package a short nickname -- called an **alias**. \n",
    "\n",
    "Using an alias doesn't change the properties of the package you imported."
   ]
  },
  {
   "cell_type": "code",
   "execution_count": 27,
   "id": "16898cfe",
   "metadata": {},
   "outputs": [
    {
     "name": "stdout",
     "output_type": "stream",
     "text": [
      "Earth mass =  5.972167867791379e+27 g\n"
     ]
    }
   ],
   "source": [
    "import astropy.constants as c\n",
    "\n",
    "earth_mass = c.M_earth\n",
    "print(\"Earth mass = \", earth_mass.to('g'))"
   ]
  },
  {
   "cell_type": "markdown",
   "id": "02f15711",
   "metadata": {},
   "source": [
    "Just be careful not to accidentally write over that name by defining `c` to be something else, later on!"
   ]
  },
  {
   "cell_type": "code",
   "execution_count": 28,
   "id": "193bdba9",
   "metadata": {},
   "outputs": [
    {
     "ename": "AttributeError",
     "evalue": "'float' object has no attribute 'M_earth'",
     "output_type": "error",
     "traceback": [
      "\u001b[0;31m---------------------------------------------------------------------------\u001b[0m",
      "\u001b[0;31mAttributeError\u001b[0m                            Traceback (most recent call last)",
      "Cell \u001b[0;32mIn[28], line 3\u001b[0m\n\u001b[1;32m      1\u001b[0m c \u001b[38;5;241m=\u001b[39m \u001b[38;5;241m1.e5\u001b[39m \u001b[38;5;66;03m# speed of light, in km/s\u001b[39;00m\n\u001b[0;32m----> 3\u001b[0m earth_mass_energy \u001b[38;5;241m=\u001b[39m \u001b[43mc\u001b[49m\u001b[38;5;241;43m.\u001b[39;49m\u001b[43mM_earth\u001b[49m \u001b[38;5;241m*\u001b[39m c\u001b[38;5;241m*\u001b[39m\u001b[38;5;241m*\u001b[39m\u001b[38;5;241m2\u001b[39m \u001b[38;5;66;03m# Mass energy of the Earth, according to E = mc^2\u001b[39;00m\n",
      "\u001b[0;31mAttributeError\u001b[0m: 'float' object has no attribute 'M_earth'"
     ]
    }
   ],
   "source": [
    "c = 1.e5 # speed of light, in km/s\n",
    "\n",
    "earth_mass_energy = c.M_earth * c**2 # Mass energy of the Earth, according to E = mc^2"
   ]
  },
  {
   "cell_type": "markdown",
   "id": "fd4a9e38",
   "metadata": {},
   "source": [
    "Some aliases are so frequently used that they have become a standard practice. For numpy, `np` is the most common alias you will see."
   ]
  },
  {
   "cell_type": "code",
   "execution_count": 1,
   "id": "47f25ce7",
   "metadata": {},
   "outputs": [],
   "source": [
    "import numpy as np"
   ]
  },
  {
   "cell_type": "markdown",
   "id": "c3d9a0c5",
   "metadata": {},
   "source": [
    "Now I am ready to start performing math on arrays of numbers! I will use \"np\" as short-hand for numpy throughout my code and in this notebook."
   ]
  },
  {
   "cell_type": "markdown",
   "id": "468b41b9",
   "metadata": {},
   "source": [
    "## Resources\n",
    "\n",
    "\\[1\\] [RealPython.com: Namespaces and Scope](https://realpython.com/python-namespaces-scope/) -- includes examples for how variable names get treated when they are inside and outside of functions"
   ]
  },
  {
   "cell_type": "markdown",
   "id": "c1f3625d",
   "metadata": {},
   "source": [
    "# 3. Math with numpy"
   ]
  },
  {
   "cell_type": "markdown",
   "id": "7a7ff8d9",
   "metadata": {},
   "source": [
    "## 3.1 Defining numerical arrays\n",
    "\n",
    "To define an array of numbers, use `np.array`, then define the values of your array inside square brackets.\n",
    "\n",
    "In the example below, multiplying my array by 2 applies this operation to each element of the array. Compare this to the behavior of multiplying lists by an integer number, above."
   ]
  },
  {
   "cell_type": "code",
   "execution_count": 2,
   "id": "bac98ab5",
   "metadata": {},
   "outputs": [
    {
     "name": "stdout",
     "output_type": "stream",
     "text": [
      "[2. 4. 6.]\n"
     ]
    }
   ],
   "source": [
    "my_array = np.array([1., 2., 3.])\n",
    "print(my_array * 2)"
   ]
  },
  {
   "cell_type": "markdown",
   "id": "fc380575",
   "metadata": {},
   "source": [
    "If you started programming in Fortran or C, you might be used to building and filling numerical arrays by looping over every index. This type of operation is *highly inefficient* in Python, and can cause a lot of headaches for people who are trying to make the switch.\n",
    "\n",
    "Python for-loops are inefficient because of the interpreted, object-oriented nature of the language. At each step in the loop, Python is performing type-checks and other hidden processes that make it significantly slower than compiled languages like Fortran or C.\n",
    "\n",
    "Fortunately, numpy is optimized to perform common mathematical operations as fast as possible. So there are a lot of built in numerical functions that eliminate the need for mathematical for-loops in Python. If some one tells you to \"vectorize\" your code, they are telling you to replace your for-loops with numpy arrays and apply numpy functions to those arrays.\n",
    "\n",
    "Here is a simple example of initializing an array of ones using the for-loop versus the numpy approach. I will measure the efficiency of my code using the IPython magic command, `%%timeit`, which measures the average time it takes to execute the code in that block."
   ]
  },
  {
   "cell_type": "code",
   "execution_count": 3,
   "id": "4e8790dd",
   "metadata": {},
   "outputs": [],
   "source": [
    "N = 100 # length of array I want to build"
   ]
  },
  {
   "cell_type": "code",
   "execution_count": 4,
   "id": "0871e5d5",
   "metadata": {},
   "outputs": [
    {
     "name": "stdout",
     "output_type": "stream",
     "text": [
      "17.4 µs ± 980 ns per loop (mean ± std. dev. of 7 runs, 100000 loops each)\n"
     ]
    }
   ],
   "source": [
    "%%timeit\n",
    "\n",
    "# Method 1: Create an empty list, append the value 1 to that list N times, then convert the list to a numpy array\n",
    "list_array = []\n",
    "for i in range(N):\n",
    "    list_array.append(1.0)\n",
    "\n",
    "result = np.array(list_array)"
   ]
  },
  {
   "cell_type": "code",
   "execution_count": 5,
   "id": "7adb91db",
   "metadata": {},
   "outputs": [
    {
     "name": "stdout",
     "output_type": "stream",
     "text": [
      "19 µs ± 4.25 µs per loop (mean ± std. dev. of 7 runs, 10000 loops each)\n"
     ]
    }
   ],
   "source": [
    "%%timeit\n",
    "\n",
    "# Method 2: Create a numpy array of zeros, then loop through each element to set it to the value I want, which is 1\n",
    "result = np.zeros(N)\n",
    "for i in range(len(result)):\n",
    "    result[i] = 1.0"
   ]
  },
  {
   "cell_type": "code",
   "execution_count": 6,
   "id": "a0e099d6",
   "metadata": {},
   "outputs": [
    {
     "name": "stdout",
     "output_type": "stream",
     "text": [
      "3.25 µs ± 278 ns per loop (mean ± std. dev. of 7 runs, 100000 loops each)\n"
     ]
    }
   ],
   "source": [
    "%%timeit\n",
    "\n",
    "# Method 3: Use the numpy function `ones` to create an array where each element is set to 1\n",
    "result = np.ones(N)"
   ]
  },
  {
   "cell_type": "markdown",
   "id": "4c2786f3",
   "metadata": {},
   "source": [
    "Depending on your machine and/or numpy and python versions, you'll see that using the built-in numpy function `np.ones` is 3-6 times faster than using a for-loop to set all of the values of an array to 1."
   ]
  },
  {
   "cell_type": "markdown",
   "id": "a605b754",
   "metadata": {},
   "source": [
    "**Exercise:** Use `%%timeit` to test the efficiency of calculating the mathematical quantity $n! = n \\times (n-1) \\times (n-2) ... \\times 1$ using a for-loop versus using a numpy array.\n",
    "\n",
    "The numpy factorial function is `np.math.factorial`. You might also take advantage of built-in Python object `range` or the function `np.arange` to create your for-loop. Which one yields a faster for-loop?"
   ]
  },
  {
   "cell_type": "code",
   "execution_count": null,
   "id": "7f70278c",
   "metadata": {},
   "outputs": [],
   "source": []
  },
  {
   "cell_type": "code",
   "execution_count": null,
   "id": "db9f47b1",
   "metadata": {},
   "outputs": [],
   "source": []
  },
  {
   "cell_type": "markdown",
   "id": "32a3cfd2",
   "metadata": {},
   "source": [
    "### Resources\n",
    "\n",
    "* [Jake VanderPlas: Why Python is slow](http://jakevdp.github.io/blog/2014/05/09/why-python-is-slow/) -- for a deep dive into Python inefficiencies\n",
    "* [IPython documentation: Built-in magic commands](https://ipython.readthedocs.io/en/stable/interactive/magics.html) -- search this for the %timeit command, and other useful IPython \"magic\""
   ]
  },
  {
   "cell_type": "markdown",
   "id": "e2926b51",
   "metadata": {},
   "source": [
    "## 3.2 Indexing and slicing multi-dimensonal numpy arrays\n",
    "\n",
    "Note that Python indexes values starting from 0, so x[0] gives you the first element of array x, x[1] gives the second value, and so on."
   ]
  },
  {
   "cell_type": "code",
   "execution_count": 7,
   "id": "619bcf58",
   "metadata": {},
   "outputs": [
    {
     "name": "stdout",
     "output_type": "stream",
     "text": [
      "[0 1 2 3 4 5 6 7 8 9]\n"
     ]
    }
   ],
   "source": [
    "count_to_ten = np.arange(10) # array of whole number values, 0-9\n",
    "print(count_to_ten)"
   ]
  },
  {
   "cell_type": "code",
   "execution_count": 8,
   "id": "237a397f",
   "metadata": {},
   "outputs": [
    {
     "data": {
      "text/plain": [
       "0"
      ]
     },
     "execution_count": 8,
     "metadata": {},
     "output_type": "execute_result"
    }
   ],
   "source": [
    "count_to_ten[0]"
   ]
  },
  {
   "cell_type": "code",
   "execution_count": 9,
   "id": "0ecb2340",
   "metadata": {},
   "outputs": [
    {
     "data": {
      "text/plain": [
       "1"
      ]
     },
     "execution_count": 9,
     "metadata": {},
     "output_type": "execute_result"
    }
   ],
   "source": [
    "count_to_ten[1]"
   ]
  },
  {
   "cell_type": "markdown",
   "id": "436c1bc8",
   "metadata": {},
   "source": [
    "You can select a sub-section of a numpy array with bracket notation, called a \"slice\". A slice is defined by three values: starting index, ending index, and step size.\n",
    "\n",
    "In the following example, I select even numbers between 10 and 20 using an array of whole number values from 0 to 99."
   ]
  },
  {
   "cell_type": "code",
   "execution_count": 10,
   "id": "b7348d0a",
   "metadata": {},
   "outputs": [
    {
     "name": "stdout",
     "output_type": "stream",
     "text": [
      "[10 12 14 16 18]\n"
     ]
    }
   ],
   "source": [
    "count_to_onehundred = np.arange(100) # array of whole number values, 0-99\n",
    "print(count_to_onehundred[10:20:2])"
   ]
  },
  {
   "cell_type": "markdown",
   "id": "3b4d052d",
   "metadata": {},
   "source": [
    "Note from the example above that the starting index is included, but the ending index does not. Let's see that in practice, again. This time, I am going to leave the start index empty, indicating that I want to see everything *up to but not including* index 10 in the array."
   ]
  },
  {
   "cell_type": "code",
   "execution_count": 11,
   "id": "a0669be0",
   "metadata": {},
   "outputs": [
    {
     "name": "stdout",
     "output_type": "stream",
     "text": [
      "[0 1 2 3 4 5 6 7 8 9]\n"
     ]
    }
   ],
   "source": [
    "print(count_to_onehundred[:10])"
   ]
  },
  {
   "cell_type": "markdown",
   "id": "d314cd67",
   "metadata": {},
   "source": [
    "There are instances where you may care about what is happening at the end of your array. For convenience, Python allows you to index from the end-point of the array using negative numbers."
   ]
  },
  {
   "cell_type": "code",
   "execution_count": 12,
   "id": "6f5412b7",
   "metadata": {},
   "outputs": [
    {
     "name": "stdout",
     "output_type": "stream",
     "text": [
      "99\n"
     ]
    }
   ],
   "source": [
    "print(count_to_onehundred[-1]) # returns the last index of the array"
   ]
  },
  {
   "cell_type": "code",
   "execution_count": 13,
   "id": "e2c22415",
   "metadata": {},
   "outputs": [
    {
     "name": "stdout",
     "output_type": "stream",
     "text": [
      "[90 91 92 93 94 95 96 97 98 99]\n"
     ]
    }
   ],
   "source": [
    "print(count_to_onehundred[-10:]) # returns the last 10 values of the array"
   ]
  },
  {
   "cell_type": "markdown",
   "id": "2a2f9dfb",
   "metadata": {},
   "source": [
    "You can create multi-dimensional arrays by nesting lists in brackets. Here is an example of creating a 2-D array by hand in numpy."
   ]
  },
  {
   "cell_type": "code",
   "execution_count": 14,
   "id": "cd76595a",
   "metadata": {},
   "outputs": [],
   "source": [
    "example_2d = np.array([[1, 1, 1],\n",
    "                       [2, 2, 2],\n",
    "                       [3, 3, 3],\n",
    "                       [4, 4, 4]])"
   ]
  },
  {
   "cell_type": "markdown",
   "id": "085759e9",
   "metadata": {},
   "source": [
    "We can view the dimensions of the array using the `shape` attribute."
   ]
  },
  {
   "cell_type": "code",
   "execution_count": 15,
   "id": "aeed8eba",
   "metadata": {},
   "outputs": [
    {
     "name": "stdout",
     "output_type": "stream",
     "text": [
      "(4, 3)\n"
     ]
    }
   ],
   "source": [
    "print(example_2d.shape)"
   ]
  },
  {
   "cell_type": "markdown",
   "id": "cdd2d62d",
   "metadata": {},
   "source": [
    "With the print statement above, we can see that the array has dimensions 4x3 so that the first (0th) dimension has length 4 and the second (1st) dimension has length 3.\n",
    "\n",
    "What happens if we print the length of the array?"
   ]
  },
  {
   "cell_type": "code",
   "execution_count": 16,
   "id": "cd5551b1",
   "metadata": {},
   "outputs": [
    {
     "name": "stdout",
     "output_type": "stream",
     "text": [
      "4\n"
     ]
    }
   ],
   "source": [
    "print(len(example_2d))"
   ]
  },
  {
   "cell_type": "markdown",
   "id": "6d651dea",
   "metadata": {},
   "source": [
    "We only see the length of the first (0th) dimension! This is something to watch out for.\n",
    "\n",
    "Now, let's say I want to do something with a single row of the array. I can use the same indexing and slicing notation as I did with the 1-D array, but I can index each dimension individually, using a comma to separate my slices."
   ]
  },
  {
   "cell_type": "code",
   "execution_count": 17,
   "id": "b147889c",
   "metadata": {},
   "outputs": [
    {
     "name": "stdout",
     "output_type": "stream",
     "text": [
      "2\n"
     ]
    }
   ],
   "source": [
    "# Print the first item (column 0) in the second row (row 1)\n",
    "print(example_2d[1,0])"
   ]
  },
  {
   "cell_type": "code",
   "execution_count": 18,
   "id": "550a6436",
   "metadata": {},
   "outputs": [
    {
     "name": "stdout",
     "output_type": "stream",
     "text": [
      "[1 1 1]\n"
     ]
    }
   ],
   "source": [
    "# Print the first row\n",
    "print(example_2d[0,:])"
   ]
  },
  {
   "cell_type": "code",
   "execution_count": 19,
   "id": "ba24f3b5",
   "metadata": {},
   "outputs": [
    {
     "name": "stdout",
     "output_type": "stream",
     "text": [
      "[1 2 3 4]\n"
     ]
    }
   ],
   "source": [
    "# Print the first column\n",
    "print(example_2d[:,0])"
   ]
  },
  {
   "cell_type": "code",
   "execution_count": 20,
   "id": "a6c74d7d",
   "metadata": {},
   "outputs": [
    {
     "name": "stdout",
     "output_type": "stream",
     "text": [
      "[[2 2 2]\n",
      " [3 3 3]\n",
      " [4 4 4]]\n"
     ]
    }
   ],
   "source": [
    "# Print everything except the first row\n",
    "print(example_2d[1:,:])"
   ]
  },
  {
   "cell_type": "markdown",
   "id": "dbd3a33e",
   "metadata": {},
   "source": [
    "## 3.3 Filtering arrays\n",
    "\n",
    "I have noticed a lot of people coming to Python from IDL naturally find the `np.where` function and use it liberally to filter arrays. Note that it returns the array where the logic condition is met. [See the `np.where`  documentation](https://numpy.org/doc/stable/reference/generated/numpy.where.html) to understand the full power of this function."
   ]
  },
  {
   "cell_type": "code",
   "execution_count": 21,
   "id": "3d66dcb4",
   "metadata": {},
   "outputs": [
    {
     "data": {
      "text/plain": [
       "(array([50, 51, 52, 53, 54, 55, 56, 57, 58, 59, 60, 61, 62, 63, 64, 65, 66,\n",
       "        67, 68, 69, 70, 71, 72, 73, 74, 75, 76, 77, 78, 79, 80, 81, 82, 83,\n",
       "        84, 85, 86, 87, 88, 89, 90, 91, 92, 93, 94, 95, 96, 97, 98, 99]),)"
      ]
     },
     "execution_count": 21,
     "metadata": {},
     "output_type": "execute_result"
    }
   ],
   "source": [
    "np.where(count_to_onehundred >= 50)"
   ]
  },
  {
   "cell_type": "markdown",
   "id": "e2860607",
   "metadata": {},
   "source": [
    "Note that the above function call returns two values: the filtered numpy array, followed by nothing (which in Python, is the object `None`). So if we only wanted the filtered array, we would need to store it like this:"
   ]
  },
  {
   "cell_type": "code",
   "execution_count": 22,
   "id": "aa958b88",
   "metadata": {},
   "outputs": [
    {
     "name": "stdout",
     "output_type": "stream",
     "text": [
      "[50 51 52 53 54 55 56 57 58 59 60 61 62 63 64 65 66 67 68 69 70 71 72 73\n",
      " 74 75 76 77 78 79 80 81 82 83 84 85 86 87 88 89 90 91 92 93 94 95 96 97\n",
      " 98 99]\n"
     ]
    }
   ],
   "source": [
    "filtered_array = np.where(count_to_onehundred >= 50)[0]\n",
    "print(filtered_array)"
   ]
  },
  {
   "cell_type": "markdown",
   "id": "461af9f8",
   "metadata": {},
   "source": [
    "If you have multiple arrays, such as 1-D x and y values for a graph, and you want to filter the information based on the values in x, my personal preference is to create boolean arrays. These are arrays of True/False values that you can apply to numpy arrays in the same way you would with slices."
   ]
  },
  {
   "cell_type": "code",
   "execution_count": 23,
   "id": "311d9c74",
   "metadata": {},
   "outputs": [
    {
     "name": "stdout",
     "output_type": "stream",
     "text": [
      "[False False False False False False False False False False False False\n",
      " False False False False False False False False  True  True  True  True\n",
      "  True  True  True  True  True  True  True False False False False False\n",
      " False False False False False False False False False False False False\n",
      " False False False False False False False False False False False False\n",
      " False False False False False False False False False False False False\n",
      " False False False False False False False False False False False False\n",
      " False False False False False False False False False False False False\n",
      " False False False False]\n",
      "[20 21 22 23 24 25 26 27 28 29 30]\n"
     ]
    }
   ],
   "source": [
    "# Filter for the numbers between 20 and 30, inclusive\n",
    "ii = (count_to_onehundred >= 20) & (count_to_onehundred <= 30)\n",
    "print(ii)\n",
    "print(count_to_onehundred[ii])"
   ]
  },
  {
   "cell_type": "markdown",
   "id": "13f8a4de",
   "metadata": {},
   "source": [
    "**Exercise:** Filter the `count_to_onehundred` array to print values between 20 and 30, inclusive, using `np.where`"
   ]
  },
  {
   "cell_type": "code",
   "execution_count": null,
   "id": "9898680c",
   "metadata": {},
   "outputs": [],
   "source": []
  },
  {
   "cell_type": "markdown",
   "id": "0bdcb12c",
   "metadata": {},
   "source": [
    "**Exercise:** Filter the `count_to_onehundred` array to print values > 50, without saving the boolean array to a new variable name."
   ]
  },
  {
   "cell_type": "code",
   "execution_count": null,
   "id": "ed832533",
   "metadata": {},
   "outputs": [],
   "source": []
  },
  {
   "cell_type": "markdown",
   "id": "b806dc66",
   "metadata": {},
   "source": [
    "**Exercise:** Which technique is fastest?"
   ]
  },
  {
   "cell_type": "code",
   "execution_count": null,
   "id": "01397597",
   "metadata": {},
   "outputs": [],
   "source": []
  },
  {
   "cell_type": "code",
   "execution_count": null,
   "id": "f219c7d3",
   "metadata": {},
   "outputs": [],
   "source": []
  },
  {
   "cell_type": "markdown",
   "id": "68add7b7",
   "metadata": {},
   "source": [
    "## 3.4 Useful numpy functions\n",
    "\n",
    "Numpy is full of useful functions that can help you avoid for-loops. Let's look at something simple, like summing data with `np.sum`, operating on the 2D array I created earlier.\n",
    "\n",
    "As a reminder, the array looks like this:"
   ]
  },
  {
   "cell_type": "code",
   "execution_count": 24,
   "id": "81993a39",
   "metadata": {},
   "outputs": [
    {
     "name": "stdout",
     "output_type": "stream",
     "text": [
      "[[1 1 1]\n",
      " [2 2 2]\n",
      " [3 3 3]\n",
      " [4 4 4]]\n"
     ]
    }
   ],
   "source": [
    "print(example_2d)"
   ]
  },
  {
   "cell_type": "markdown",
   "id": "8ec31dfe",
   "metadata": {},
   "source": [
    "Here's what happens when I run `np.sum` on this array:"
   ]
  },
  {
   "cell_type": "code",
   "execution_count": 25,
   "id": "f809c195",
   "metadata": {},
   "outputs": [
    {
     "name": "stdout",
     "output_type": "stream",
     "text": [
      "30\n"
     ]
    }
   ],
   "source": [
    "print(np.sum(example_2d))"
   ]
  },
  {
   "cell_type": "markdown",
   "id": "58a8cca2",
   "metadata": {},
   "source": [
    "But what if I didn't want the sum of the *entire* array. What if I wanted the sum of all the columns?\n",
    "\n",
    "We can tell `np.sum` to perform the summation over one axis and not the other using the `axis=` keyword. In our case, the columns are the 0th axis and the rows are the 1st axis. (Remember: Python starts indexing at 0)"
   ]
  },
  {
   "cell_type": "code",
   "execution_count": 26,
   "id": "9d5c3280",
   "metadata": {},
   "outputs": [
    {
     "name": "stdout",
     "output_type": "stream",
     "text": [
      "[10 10 10]\n"
     ]
    }
   ],
   "source": [
    "print(np.sum(example_2d, axis=0))"
   ]
  },
  {
   "cell_type": "markdown",
   "id": "6753e6f0",
   "metadata": {},
   "source": [
    "**Exercise:** How would you use `np.sum` to sum over the rows, instead of columns? What is the shape of the result?"
   ]
  },
  {
   "cell_type": "code",
   "execution_count": null,
   "id": "7aacac72",
   "metadata": {},
   "outputs": [],
   "source": []
  },
  {
   "cell_type": "markdown",
   "id": "8bb669d3",
   "metadata": {},
   "source": [
    "**Exercise:** How would you write a for-loop to sum over the columns of the `example_2d` array? Use %%timeit to see which is faster, `np.sum` or your for-loop."
   ]
  },
  {
   "cell_type": "code",
   "execution_count": null,
   "id": "737a2bd9",
   "metadata": {},
   "outputs": [],
   "source": []
  },
  {
   "cell_type": "markdown",
   "id": "e3eece5c",
   "metadata": {},
   "source": [
    "### A list of useful numpy functions (that I use all the time)\n",
    "\n",
    "* Special constants: `np.pi`, `np.inf`, `np.e`\n",
    "* Special arrays: `np.arange`, `np.linspace`, `np.logspace` for setting up grids\n",
    "* Math: `np.exp`, `np.sum`, `np.log` (natural log), `np.log10` (base-10 log)\n",
    "* Statistical properties of an array: `np.mean`, `np.std`, `np.percentile`\n",
    "* A simple interpolator: `np.interp`\n",
    "* Building and working with histograms: `np.histogram`, `np.histogram2d`\n",
    "* Numerical integration: `np.trapz` (trapezoidal method)\n",
    "\n",
    "**Scipy provides libraries of more advanced operations for scientific computing. Check out:**\n",
    "\n",
    "* [scipy.interpolate](https://docs.scipy.org/doc/scipy/reference/interpolate.html)\n",
    "* [scipy.integrate](https://docs.scipy.org/doc/scipy/tutorial/integrate.html)\n",
    "\n",
    "\n",
    "The easiest way to look up Numpy and Scipy documentation is to search using the same notation you would use to call the function in Python. For example, the first thing that pops up on Google when I search \"numpy.trapz\" is [https://numpy.org/doc/stable/reference/generated/numpy.trapz.html](https://numpy.org/doc/stable/reference/generated/numpy.trapz.html)."
   ]
  },
  {
   "cell_type": "markdown",
   "id": "49e6e9df",
   "metadata": {},
   "source": [
    "# 4. Defining functions with docstrings\n",
    "\n",
    "Here we'll review how to write functions in Python, with a highlight on docstrings!\n",
    "\n",
    "Anything after a \"#\" symbol in Python will be ignored, allowing you to create an inline comment. But you can comment out large blocks of text beginning and ending with a triple quote symbol, either ''' or \"\"\"\n",
    "\n",
    "A block of comment text just after a function definition is referred to as a \"docstring\", and it has become a software engineering standard to provide Python documentation in this way.\n",
    "\n",
    "Here, I'm going to define a function that computes a the Taylor expansion for an exponential function up to order `n`, then plots the approximations alongside the true function."
   ]
  },
  {
   "cell_type": "code",
   "execution_count": 27,
   "id": "ff5de03f",
   "metadata": {},
   "outputs": [],
   "source": [
    "# For plotting, I will use matplotlib\n",
    "import matplotlib.pyplot as plt"
   ]
  },
  {
   "cell_type": "code",
   "execution_count": 34,
   "id": "5b397a08",
   "metadata": {},
   "outputs": [
    {
     "data": {
      "image/png": "[encoded data removed]",
      "text/plain": [
       "<Figure size 432x288 with 1 Axes>"
      ]
     },
     "metadata": {
      "needs_background": "light"
     },
     "output_type": "display_data"
    }
   ],
   "source": [
    "# define a linear grid with 100 steps between 0 and 100, inclusive\n",
    "XGRID = np.linspace(0, 10, 100)\n",
    "\n",
    "def taylor_expand_exponential(n):\n",
    "    \"\"\"\n",
    "    Compute the Taylor expansion approximation to an exponential function, y = exp(-x),\n",
    "    and plot the approximation against the true function.\n",
    "    \n",
    "    Inputs\n",
    "    ------\n",
    "    n : int : highest order term to compute in the Taylor expansion\n",
    "    \n",
    "    Returns\n",
    "    -------\n",
    "    numpy array with the Taylor expansion approximation: \n",
    "    y_approx = 1 - x + x^2/2! - x^3/3! + ...\n",
    "    \n",
    "    This function also draws a plot.\n",
    "    \"\"\"\n",
    "    # Note that I am using XGRID, which has been defined externally from this function\n",
    "    y = np.exp(-XGRID)\n",
    "    \n",
    "    y_approx = 0.0\n",
    "    for i in range(n+1): # i takes on values 0, 1, 2, ..., n\n",
    "        y_approx += (-1.0)**i * XGRID**i / np.math.factorial(i)\n",
    "    \n",
    "    plt.plot(XGRID, y, color='k', label='Truth (y = e$^{-x}$)')\n",
    "    plt.plot(XGRID, y_approx, color='b', label='Approximation')\n",
    "    plt.semilogy()\n",
    "    plt.legend()\n",
    "    plt.xlabel('x')\n",
    "    plt.ylabel('y')\n",
    "    return y_approx\n",
    "\n",
    "# Test it\n",
    "test = taylor_expand_exponential(20)"
   ]
  },
  {
   "cell_type": "markdown",
   "id": "f21d0944",
   "metadata": {},
   "source": [
    "## 4.1 Why docstrings are so great!\n",
    "\n",
    "Great! Our code works. Now we can use the \"?\" notation in IPython to read our own documentation from the Jupyter notebook.\n",
    "\n",
    "Using one \"?\" shows you the docstring"
   ]
  },
  {
   "cell_type": "code",
   "execution_count": 39,
   "id": "2ffa3952",
   "metadata": {},
   "outputs": [],
   "source": [
    "taylor_expand_exponential?"
   ]
  },
  {
   "cell_type": "markdown",
   "id": "a50a778e",
   "metadata": {},
   "source": [
    "and using two \"??\" shows you the source code"
   ]
  },
  {
   "cell_type": "code",
   "execution_count": 40,
   "id": "e01d36c7",
   "metadata": {},
   "outputs": [],
   "source": [
    "taylor_expand_exponential??"
   ]
  },
  {
   "cell_type": "markdown",
   "id": "9b8b96eb",
   "metadata": {},
   "source": [
    "This is just one demonstration of automated processes for digesting docstrings, which are part of the Python standard practice. They aren't just readable by Python, **docstrings are used to build entire ecosystems of online documentation**.\n",
    "\n",
    "Compare the docstring for `np.sum` with the online documentation: [https://numpy.org/doc/stable/reference/generated/numpy.sum.html](https://numpy.org/doc/stable/reference/generated/numpy.sum.html)\n",
    "\n",
    "Notice that ALL the text on the documentation page is also contained in the docstring. That's because Numpy uses the [Sphinx architecture](https://www.sphinx-doc.org/en/master/) to generate its online documentation from docstrings!"
   ]
  },
  {
   "cell_type": "code",
   "execution_count": 43,
   "id": "a9fb8fac",
   "metadata": {},
   "outputs": [],
   "source": [
    "np.sum?"
   ]
  },
  {
   "cell_type": "markdown",
   "id": "92d78eca",
   "metadata": {},
   "source": [
    "Getting in the habit of writing docstrings will not only benefit future you, it can eventually help your code libraries grow because new users will understand your code faster -- making it more desirable to use, enhancing your citations, and your collaboration potential."
   ]
  },
  {
   "cell_type": "markdown",
   "id": "bd8bca04",
   "metadata": {},
   "source": [
    "## 4.2 Keyword arguments in function definitions\n",
    "\n",
    "Let's get back to function definitions and a few tricks you can use to make your functions more flexible and reusable.\n",
    "\n",
    "Note that in the above example, my function uses the hard-coded `XGRID` values that I defined externally. I may know from the beginning that this is the default grid I want to use, but what if I change my mind later? Or what if I need to change it just for the sake of testing my code? If that were the case, I would have to go back and run everything from the top.\n",
    "\n",
    "Using keywords in my function definitions, I can set up a default value to use, which I can change later."
   ]
  },
  {
   "cell_type": "code",
   "execution_count": 73,
   "id": "96e6b35f",
   "metadata": {},
   "outputs": [],
   "source": [
    "def taylor_expand_exponential(n, x=XGRID):\n",
    "    \"\"\"\n",
    "    Compute the Taylor expansion approximation to an exponential function, y = exp(-x),\n",
    "    and plot the approximation against the true function.\n",
    "    \n",
    "    Inputs\n",
    "    ------\n",
    "    n : int : highest order term to compute in the Taylor expansion\n",
    "    \n",
    "    x : numpy array : grid of x values for the function input\n",
    "    \n",
    "    Returns\n",
    "    -------\n",
    "    numpy array with the Taylor expansion approximation: \n",
    "    y_approx = 1 - x + x^2/2! - x^3/3! + ...\n",
    "    \n",
    "    This function also draws a plot.\n",
    "    \"\"\"\n",
    "    # This time I am not using any external variables.\n",
    "    # By default, it uses the XGRID I defined earlier on in the notebook,\n",
    "    # but this can be changed if the user sets x= to something else\n",
    "    # when they run the function.\n",
    "    y = np.exp(-x)\n",
    "    \n",
    "    y_approx = 0.0\n",
    "    for i in range(n+1): # i takes on values 0, 1, 2, ..., n\n",
    "        y_approx += (-1.0)**i * x**i / np.math.factorial(i)\n",
    "    \n",
    "    plt.plot(x, y, color='k', label='Truth (y = e$^{-x}$)')\n",
    "    plt.plot(x, y_approx, color='b', label='Approximation')\n",
    "    plt.semilogy()\n",
    "    plt.legend()\n",
    "    plt.xlabel('x')\n",
    "    plt.ylabel('y')\n",
    "    return y_approx"
   ]
  },
  {
   "cell_type": "code",
   "execution_count": 74,
   "id": "61da9bef",
   "metadata": {},
   "outputs": [
    {
     "data": {
      "image/png": "[encoded data removed]",
      "text/plain": [
       "<Figure size 432x288 with 1 Axes>"
      ]
     },
     "metadata": {
      "needs_background": "light"
     },
     "output_type": "display_data"
    }
   ],
   "source": [
    "# Note that, if I DO NOT set x= to something else, I still get my original results\n",
    "test = taylor_expand_exponential(20)"
   ]
  },
  {
   "cell_type": "code",
   "execution_count": 75,
   "id": "462c14dc",
   "metadata": {},
   "outputs": [
    {
     "data": {
      "image/png": "[encoded data removed]",
      "text/plain": [
       "<Figure size 432x288 with 1 Axes>"
      ]
     },
     "metadata": {
      "needs_background": "light"
     },
     "output_type": "display_data"
    }
   ],
   "source": [
    "x_new = np.logspace(-1, 2, 30) # set up a new grid with log-spaced bins\n",
    "test = taylor_expand_exponential(20, x=x_new)\n",
    "# and we now have a plot on the new grid, which extends to 10^2"
   ]
  },
  {
   "cell_type": "markdown",
   "id": "ce428a5b",
   "metadata": {},
   "source": [
    "When I am plotting, I like to give myself as much flexibility as possible with plotting choices, so I'm not rewriting my plotting tools over and over.\n",
    "\n",
    "One of my favorite tricks to use is passing any left-over keywords defined by the user to a different function: the ones in charge of plotting!\n",
    "\n",
    "In this case, the \"truth\" function will always be plotted in black, but I can customize the appearance of the Taylor approximation using any of the keyword arguments that `plt.plot` can accept."
   ]
  },
  {
   "cell_type": "code",
   "execution_count": 76,
   "id": "d17648d4",
   "metadata": {},
   "outputs": [],
   "source": [
    "def taylor_expand_exponential(n, x=XGRID, **kwargs):\n",
    "    \"\"\"\n",
    "    Compute the Taylor expansion approximation to an exponential function, y = exp(-x),\n",
    "    and plot the approximation against the true function.\n",
    "    \n",
    "    Inputs\n",
    "    ------\n",
    "    n : int : highest order term to compute in the Taylor expansion\n",
    "    \n",
    "    x : numpy array : grid of x values for the function input\n",
    "    \n",
    "    **kwargs is passed to plt.plot, which will plot the curve \n",
    "        that results from the Taylor expansion\n",
    "    \n",
    "    Returns\n",
    "    -------\n",
    "    numpy array with the Taylor expansion approximation: \n",
    "    y_approx = 1 - x + x^2/2! - x^3/3! + ...\n",
    "    \n",
    "    This function also draws a plot.\n",
    "    \"\"\"\n",
    "    y = np.exp(-x)\n",
    "    \n",
    "    y_approx = 0.0\n",
    "    for i in range(n+1): # i takes on values 0, 1, 2, ..., n\n",
    "        y_approx += (-1.0)**(i) * x**i / np.math.factorial(i)\n",
    "    \n",
    "    plt.plot(x, y, color='k', label='Truth (y = e$^{-x}$)')\n",
    "    # This time, the extra **kwargs are passed to the second plotting command\n",
    "    plt.plot(x, y_approx, label='Approximation', **kwargs)\n",
    "    plt.semilogy()\n",
    "    plt.legend()\n",
    "    plt.xlabel('x')\n",
    "    plt.ylabel('y')\n",
    "    return y_approx"
   ]
  },
  {
   "cell_type": "code",
   "execution_count": 77,
   "id": "04134388",
   "metadata": {},
   "outputs": [
    {
     "data": {
      "image/png": "[encoded data removed]",
      "text/plain": [
       "<Figure size 432x288 with 1 Axes>"
      ]
     },
     "metadata": {
      "needs_background": "light"
     },
     "output_type": "display_data"
    }
   ],
   "source": [
    "# Now I can compare Taylor expansion curves in the same plot\n",
    "# But note that the \"truth\" value gets plotted twice, which messes up my legend!\n",
    "test10 = taylor_expand_exponential(10, color='r', ls='--', lw=5)\n",
    "test20 = taylor_expand_exponential(20, color='orange', ls=':', lw=4)"
   ]
  },
  {
   "cell_type": "markdown",
   "id": "5cf05745",
   "metadata": {},
   "source": [
    "My last trick for writing python functions for plotting is to pass matplotlib objects directly to the function, so you have more flexibility in customizing plots! You can do this by creating a [matplotlib.axes object](https://matplotlib.org/stable/api/axes_api.html) and passing it to the function."
   ]
  },
  {
   "cell_type": "code",
   "execution_count": 78,
   "id": "ba01105e",
   "metadata": {},
   "outputs": [],
   "source": [
    "def taylor_expand_exponential(ax, n, x=XGRID, plot_truth=True, **kwargs):\n",
    "    \"\"\"\n",
    "    Compute the Taylor expansion approximation to an exponential function, y = exp(-x),\n",
    "    and plot the approximation against the true function.\n",
    "    \n",
    "    Inputs\n",
    "    ------\n",
    "    ax : matplotlib axes object on which to plot\n",
    "    \n",
    "    n : int : highest order term to compute in the Taylor expansion\n",
    "    \n",
    "    x : numpy array : grid of x values for the function input\n",
    "    \n",
    "    plot_truth : bool : If True, plots the true function (exp^-x) in solid black.\n",
    "    \n",
    "    **kwargs is passed to plt.plot, which will plot the curve \n",
    "        that results from the Taylor expansion\n",
    "    \n",
    "    Returns\n",
    "    -------\n",
    "    numpy array with the Taylor expansion approximation: \n",
    "    y_approx = 1 - x + x^2/2! - x^3/3! + ...\n",
    "    \n",
    "    This function also plots the Taylor expansion on `ax`.\n",
    "    \"\"\"\n",
    "    y = np.exp(-x)\n",
    "    \n",
    "    y_approx = 0.0\n",
    "    for i in range(n+1): # i takes on values 0, 1, 2, ..., n\n",
    "        y_approx += (-1.0)**(i) * x**i / np.math.factorial(i)\n",
    "\n",
    "    # This time, call the plot commands from the matplotlib axes object\n",
    "    if plot_truth:\n",
    "        ax.plot(x, y, color='k', label='Truth (y = e$^{-x}$)')\n",
    "    ax.plot(x, y_approx, label='n={} Taylor expansion'.format(n), **kwargs)\n",
    "\n",
    "    # Some of the plot commands need to be modified from previous use\n",
    "    ax.set_yscale('log')\n",
    "    ax.legend()\n",
    "    ax.set_xlabel('x')\n",
    "    ax.set_ylabel('y')\n",
    "    return y_approx"
   ]
  },
  {
   "cell_type": "markdown",
   "id": "66150908",
   "metadata": {},
   "source": [
    "To showcase why this is useful, I show how to set up two plots side-by-side and use the same function to draw on both axes."
   ]
  },
  {
   "cell_type": "code",
   "execution_count": 81,
   "id": "8bae2983",
   "metadata": {},
   "outputs": [
    {
     "data": {
      "image/png": "[encoded data removed]",
      "text/plain": [
       "<Figure size 864x288 with 2 Axes>"
      ]
     },
     "metadata": {
      "needs_background": "light"
     },
     "output_type": "display_data"
    }
   ],
   "source": [
    "fig = plt.figure(figsize=(12,4)) # Giving the entire plot larger dimensions\n",
    "\n",
    "ax0 = plt.subplot(121) # First sub-plot\n",
    "test0 = taylor_expand_exponential(ax0, 10, color='b')\n",
    "\n",
    "ax1 = plt.subplot(122) # Second sub-plot\n",
    "test1 = taylor_expand_exponential(ax1, 20, color='r')"
   ]
  },
  {
   "cell_type": "markdown",
   "id": "43cb690b",
   "metadata": {},
   "source": [
    "or I can draw different curves on the same axes!"
   ]
  },
  {
   "cell_type": "code",
   "execution_count": 82,
   "id": "f17f3550",
   "metadata": {},
   "outputs": [
    {
     "data": {
      "image/png": "[encoded data removed]",
      "text/plain": [
       "<Figure size 432x288 with 1 Axes>"
      ]
     },
     "metadata": {
      "needs_background": "light"
     },
     "output_type": "display_data"
    }
   ],
   "source": [
    "ax = plt.subplot(111)\n",
    "test0 = taylor_expand_exponential(ax, 10, color='b', ls='--', lw=3)\n",
    "test1 = taylor_expand_exponential(ax, 20, plot_truth=False, color='r')"
   ]
  },
  {
   "cell_type": "markdown",
   "id": "9c580407",
   "metadata": {},
   "source": [
    "# Scripting in Python"
   ]
  },
  {
   "cell_type": "code",
   "execution_count": null,
   "id": "44479311",
   "metadata": {},
   "outputs": [],
   "source": []
  }
 ],
 "metadata": {
  "kernelspec": {
   "display_name": "Python 3 (ipykernel)",
   "language": "python",
   "name": "python3"
  },
  "language_info": {
   "codemirror_mode": {
    "name": "ipython",
    "version": 3
   },
   "file_extension": ".py",
   "mimetype": "text/x-python",
   "name": "python",
   "nbconvert_exporter": "python",
   "pygments_lexer": "ipython3",
   "version": "3.9.7"
  }
 },
 "nbformat": 4,
 "nbformat_minor": 5
}
