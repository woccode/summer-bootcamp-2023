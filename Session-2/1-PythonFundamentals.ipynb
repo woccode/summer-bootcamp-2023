{
 "cells": [
  {
   "cell_type": "markdown",
   "id": "aac45030",
   "metadata": {},
   "source": [
    "# What makes Python popular\n",
    "\n",
    "* Relatively easy to read (white space instead of punctuation)\n",
    "\n",
    "* Object-oriented programming is built in to every aspect of Python (more on this soon)\n",
    "\n",
    "* A strong \"front end\" language -- useful for calculations, scientific inference and interpreting results, but can quickly become inefficient for hefty numerical tasks (like hydrodynamical simulations). For numerically intensive projects, good coding choices are required, and you may need to use special libraries that assist Python with speed (e.g., cython, numba).\n",
    "\n",
    "* A large number of users with strong open source communities -- leading to a proliferation of widely useful packages (numpy, scipy, scikit, pytorch, pandas, seaborn, astropy, pymc3)"
   ]
  },
  {
   "cell_type": "markdown",
   "id": "702d2182",
   "metadata": {},
   "source": [
    "## Floats and Integers in Python\n",
    "\n",
    "Python numbers can be integers (whole numbers) or floats (numbers with decimals).\n",
    "\n",
    "You can always check the type of your number by using the `type()` function."
   ]
  },
  {
   "cell_type": "code",
   "execution_count": null,
   "id": "c9dbbde2",
   "metadata": {},
   "outputs": [],
   "source": [
    "type(1)"
   ]
  },
  {
   "cell_type": "code",
   "execution_count": null,
   "id": "a4cce55d",
   "metadata": {},
   "outputs": [],
   "source": [
    "type(1.)"
   ]
  },
  {
   "cell_type": "markdown",
   "id": "f57f7d07",
   "metadata": {},
   "source": [
    "You can also define floats with scientific notation, using the character `e`. Any number defined in this way will be stored as a float, even if you don't use a decimal."
   ]
  },
  {
   "cell_type": "code",
   "execution_count": null,
   "id": "b9118510",
   "metadata": {},
   "outputs": [],
   "source": [
    "type(1e3)"
   ]
  },
  {
   "cell_type": "markdown",
   "id": "6e0f9375",
   "metadata": {},
   "source": [
    "Dividing two integers always returns a float."
   ]
  },
  {
   "cell_type": "code",
   "execution_count": null,
   "id": "7a472281",
   "metadata": {},
   "outputs": [],
   "source": [
    "4/2"
   ]
  },
  {
   "cell_type": "code",
   "execution_count": null,
   "id": "b71198a6",
   "metadata": {},
   "outputs": [],
   "source": [
    "type(4/2)"
   ]
  },
  {
   "cell_type": "markdown",
   "id": "ac8b28f1",
   "metadata": {},
   "source": [
    "If you want the integer result from a division, use this special notation."
   ]
  },
  {
   "cell_type": "code",
   "execution_count": null,
   "id": "4e11b3a4",
   "metadata": {},
   "outputs": [],
   "source": [
    "4//2"
   ]
  },
  {
   "cell_type": "code",
   "execution_count": null,
   "id": "a9c417a8",
   "metadata": {},
   "outputs": [],
   "source": [
    "type(4//2)"
   ]
  },
  {
   "cell_type": "markdown",
   "id": "b6660f73",
   "metadata": {},
   "source": [
    "The available range of values depends on the amount of space used to store the number. Most machines these days are \"64-bit\", meaning that, by default, numbers receive 64 bits of storage. Bits take on the value \"0\" or \"1\", and describe the value of a number using base 2 notation (e.g., 00 = 0, 01 = 1, 10 = 2, 11 = 3) So if we only had 8-bits available to store the value of an integer, the maximum value we could store is (2^8 - 1) = 255.\n",
    "\n",
    "Python hides a lot of these details from users. [Python changes the amount of storage space that is taken up by an integer, depending on the value.](https://www.pythontutorial.net/advanced-python/python-integers/) So it will take one bit to store the value 0 or 1, two bits to store the values 3 or 4, and so on. For values larger than 2^64-1, Python will do the book-keeping to store each index of the integer separately. So there is no limit to the integer value you can use in Python. To do this, Python integers are actually objects! (More on what this means soon)"
   ]
  },
  {
   "cell_type": "code",
   "execution_count": null,
   "id": "c7f33e25",
   "metadata": {},
   "outputs": [],
   "source": [
    "type(-1000)"
   ]
  },
  {
   "cell_type": "code",
   "execution_count": null,
   "id": "4f4fc77e",
   "metadata": {},
   "outputs": [],
   "source": [
    "type(999999999999999999999999999999999999999999999)"
   ]
  },
  {
   "cell_type": "markdown",
   "id": "38686d77",
   "metadata": {},
   "source": [
    "![How floats are stored in computer memory - from log2base2.com]\n",
    "(https://www.log2base2.com/images/storage/how-float-values-are-stored-in-memory.png)\n",
    "\n",
    "Python floats are what C programmers call \"doubles\", which are 64-bit representations of signed numbers in scientific notation. 1 bit stores the sign (+ or -), 11 bits store the value of the exponent in scientific notation, and 52 bits store the value before the exponent. This means that the largest value that can be stored is on the order of 10^((2^10) - 1) = 10^1023\n",
    "\n",
    "Let's see what happens when we try to create a float with a value larger than this."
   ]
  },
  {
   "cell_type": "code",
   "execution_count": null,
   "id": "6a50e47b",
   "metadata": {},
   "outputs": [],
   "source": [
    "1.e1024"
   ]
  },
  {
   "cell_type": "markdown",
   "id": "c64acb3d",
   "metadata": {},
   "source": [
    "And here we get to something unique about Python -- the ability to natively represent and handle abstract mathematical concepts such as infinity. Adding, subtracting, multiplying or dividing anything by infinity gives infinity. You are also able to define infinity as being positive or negative."
   ]
  },
  {
   "cell_type": "code",
   "execution_count": null,
   "id": "0574d163",
   "metadata": {},
   "outputs": [],
   "source": [
    "1.e1024 + 1."
   ]
  },
  {
   "cell_type": "code",
   "execution_count": null,
   "id": "fc25deb6",
   "metadata": {},
   "outputs": [],
   "source": [
    "-1.e1024"
   ]
  },
  {
   "cell_type": "markdown",
   "id": "c74ac3f7",
   "metadata": {},
   "source": [
    "## More native Python objects\n",
    "\n",
    "As described in some of the details of integers and floats, above, we see that Python is doing a lot of work in the background (back-end) to provide a seamless user experience (front-end). This is because Python is inherently object-oriented -- every value you create in Python is an \"object\" that has special rules governing how they interact with other objects. \n",
    "\n",
    "Integers and floats are `int` and `float` type objects, as described above. Some other very useful Python objects are strings, lists and dictionaries."
   ]
  },
  {
   "cell_type": "markdown",
   "id": "c90e3c89",
   "metadata": {},
   "source": [
    "### Strings\n",
    "\n",
    "Python strings are non-mathematical collections of alpha-numeric characters. They can be defined with single or double quotation marks. Like numbers, string objects have rules for addition and multiplication."
   ]
  },
  {
   "cell_type": "code",
   "execution_count": null,
   "id": "9625470b",
   "metadata": {},
   "outputs": [],
   "source": [
    "type('a'), type(\"bc\")"
   ]
  },
  {
   "cell_type": "code",
   "execution_count": null,
   "id": "da5f95e3",
   "metadata": {},
   "outputs": [],
   "source": [
    "'a' + 'bc'"
   ]
  },
  {
   "cell_type": "code",
   "execution_count": null,
   "id": "0dbc745c",
   "metadata": {},
   "outputs": [],
   "source": [
    "'abc' * 3"
   ]
  },
  {
   "cell_type": "markdown",
   "id": "8b80fb4c",
   "metadata": {},
   "source": [
    "There is a wide variety of operations one can perform on Python strings, which we don't have time to cover in this workshop! See the resources list at the end of this section for links to tutorial sites that cover Python strings,  other Python objects noted in this tutorial, and more Python objects not covered."
   ]
  },
  {
   "cell_type": "markdown",
   "id": "25f63f19",
   "metadata": {},
   "source": [
    "### Dictionaries + logic statements, print formatting, and zip\n",
    "\n",
    "Dictionaries are sets of key-value pairs. I find them handy when I am working with multiple datasets of the same general type, because I can assign each a label and then perform operations on them in sequence.\n",
    "\n",
    "Dictionary keys and values can be *any* type of Python object. You can use curly brackets to initiate a dictionary, where key-value pairs are separated by a colon."
   ]
  },
  {
   "cell_type": "code",
   "execution_count": null,
   "id": "d0a4fad8",
   "metadata": {},
   "outputs": [],
   "source": [
    "my_dictionary = {'a':1, 'b':2, 'c':3, -1:'do re mi'}\n",
    "\n",
    "for k in my_dictionary.keys():\n",
    "    print(k, ':', my_dictionary[k])"
   ]
  },
  {
   "cell_type": "markdown",
   "id": "17d32d0d",
   "metadata": {},
   "source": [
    "Here is a logic statement that will test if a desired label is in my dictionary. Logic statements return a boolean Python object (bool), that is `True` or `False`."
   ]
  },
  {
   "cell_type": "code",
   "execution_count": null,
   "id": "49ddc03d",
   "metadata": {},
   "outputs": [],
   "source": [
    "print( 'a' in my_dictionary.keys() )"
   ]
  },
  {
   "cell_type": "code",
   "execution_count": null,
   "id": "66410812",
   "metadata": {},
   "outputs": [],
   "source": [
    "print( 10 in my_dictionary.keys() )"
   ]
  },
  {
   "cell_type": "markdown",
   "id": "c3a12e15",
   "metadata": {},
   "source": [
    "We can use `if` and `else` statements to do something with a logic test. Note the special syntax I am using to insert the test value into a string."
   ]
  },
  {
   "cell_type": "code",
   "execution_count": null,
   "id": "9631133e",
   "metadata": {},
   "outputs": [],
   "source": [
    "my_test_key = 'd'\n",
    "\n",
    "if my_test_key in my_dictionary.keys():\n",
    "    print(\"{} is in my_dictionary\".format(my_test_key))\n",
    "else:\n",
    "    print(\"Key not found\")"
   ]
  },
  {
   "cell_type": "markdown",
   "id": "ca2c862c",
   "metadata": {},
   "source": [
    "**Exercise**: Change the code above to make the logic test pass."
   ]
  },
  {
   "cell_type": "markdown",
   "id": "db5e88a6",
   "metadata": {},
   "source": [
    "**Efficiency tip:** You can make a dictionary very quickly using the `zip` function in Python. Zip pairs objects one-for-one in the order they are specified. I find this useful for assigning information to labels that I will use over and over again."
   ]
  },
  {
   "cell_type": "code",
   "execution_count": null,
   "id": "ec04e561",
   "metadata": {},
   "outputs": [],
   "source": [
    "labels = ['A', 'B', 'C']\n",
    "filenames = ['dataset_A.txt', 'dataset_B.txt', 'dataset_C.txt']\n",
    "colors = ['red', 'cyan', 'magenta']\n",
    "\n",
    "data_files = dict(zip(labels, filenames))\n",
    "plot_colors = dict(zip(labels, colors))\n",
    "\n",
    "for k in labels:\n",
    "    print(\"{} will be plotted in {}\".format(data_files[k], plot_colors[k]))"
   ]
  },
  {
   "cell_type": "markdown",
   "id": "0302ca20",
   "metadata": {},
   "source": [
    "### Lists\n",
    "\n",
    "Lists are a sequence of objects. They don't have to be the same type of object -- Python doesn't care! The sequence is iterable, meaning that we can use a Python `for` loop to perform on operation on the sequence one-by-one."
   ]
  },
  {
   "cell_type": "code",
   "execution_count": null,
   "id": "2d587904",
   "metadata": {},
   "outputs": [],
   "source": [
    "x = [1, 2, 3., 'a', 'b', 'c']\n",
    "\n",
    "for obj in x:\n",
    "    print(type(obj), \":\", obj)"
   ]
  },
  {
   "cell_type": "markdown",
   "id": "6a30c343",
   "metadata": {},
   "source": [
    "It's important to note that you cannot perform math on Python lists! **The rules governing Python lists are entirely different from an array of numbers.** See the following cells, for example."
   ]
  },
  {
   "cell_type": "code",
   "execution_count": null,
   "id": "6a1e2c77",
   "metadata": {},
   "outputs": [],
   "source": [
    "x = [1, 1, 1]\n",
    "y = [1, 2, 3]\n",
    "print(x + y)"
   ]
  },
  {
   "cell_type": "code",
   "execution_count": null,
   "id": "387b3fb1",
   "metadata": {},
   "outputs": [],
   "source": [
    "x = [1, 2, 3]\n",
    "print(2 * x)"
   ]
  },
  {
   "cell_type": "markdown",
   "id": "dd61403a",
   "metadata": {},
   "source": [
    "Instead of adding or multiplying the values within each list of numbers, Python lists get concatenated with the `+` command or repeated by the specified number of times with the `*` command. In that way, Python lists act like strings, not arrays of numbers.\n",
    "\n",
    "If you are coming from a background where you mostly use Matlab or IDL for calculations, this can be a source of annoyance. We will have to use an external library, [**Numpy**](https://numpy.org/), to create numerical arrays. It takes a little bit more typing to create arrays of numbers, but you get a whole library of useful (and optimized) methods for doing mathematical operations on multi-dimensional arrays."
   ]
  },
  {
   "cell_type": "markdown",
   "id": "98a1209f",
   "metadata": {},
   "source": [
    "## More resources for introductory Python\n",
    "\n",
    "* [Python.org: An Informal Introduction to Python](https://docs.python.org/3/tutorial/introduction.html)\n",
    "\n",
    "* [Programmiz: Python Datatypes](https://www.programiz.com/python-programming/numbers)\n",
    "\n",
    "* [Tutorialspoint: Python Strings](https://www.tutorialspoint.com/python/python_strings.htm) -- describes string formating, special chracters, and Python's built-in library for manipulating strings"
   ]
  },
  {
   "cell_type": "markdown",
   "id": "9eb49b2f",
   "metadata": {},
   "source": [
    "# Name spaces\n",
    "\n",
    "Now we are ready to access our first external Python library -- Numpy! Before doing so, let's talk about namespaces and all of the different ways you can import your code into your Python working environment.\n",
    "\n",
    "**What is a namespace?** \n",
    "\n",
    "**Importing a library**\n",
    "\n",
    "**Creating an alias**\n",
    "\n",
    "**Importing specific modules or functions from a library**"
   ]
  },
  {
   "cell_type": "code",
   "execution_count": null,
   "id": "47f25ce7",
   "metadata": {},
   "outputs": [],
   "source": [
    "import numpy as np"
   ]
  },
  {
   "cell_type": "markdown",
   "id": "c1f3625d",
   "metadata": {},
   "source": [
    "# Numpy arrays\n",
    "\n",
    "Efficiency, do a for-loop versus numpy array"
   ]
  },
  {
   "cell_type": "code",
   "execution_count": null,
   "id": "4e8790dd",
   "metadata": {},
   "outputs": [],
   "source": [
    "N = 100 # length of array I want to build"
   ]
  },
  {
   "cell_type": "code",
   "execution_count": null,
   "id": "0871e5d5",
   "metadata": {},
   "outputs": [],
   "source": [
    "%%timeit\n",
    "\n",
    "list_array = []\n",
    "for i in range(N):\n",
    "    list_array.append(1.0)\n",
    "\n",
    "result = np.array(list_array)"
   ]
  },
  {
   "cell_type": "code",
   "execution_count": null,
   "id": "7adb91db",
   "metadata": {},
   "outputs": [],
   "source": [
    "%%timeit\n",
    "\n",
    "result = np.zeros(N)\n",
    "for i in range(len(result)):\n",
    "    result[i] = 1.0"
   ]
  },
  {
   "cell_type": "code",
   "execution_count": null,
   "id": "a0e099d6",
   "metadata": {},
   "outputs": [],
   "source": [
    "%%timeit\n",
    "result = np.ones(N)"
   ]
  },
  {
   "cell_type": "markdown",
   "id": "e2926b51",
   "metadata": {},
   "source": [
    "### Numpy filters"
   ]
  },
  {
   "cell_type": "code",
   "execution_count": null,
   "id": "b7348d0a",
   "metadata": {},
   "outputs": [],
   "source": []
  },
  {
   "cell_type": "code",
   "execution_count": null,
   "id": "8abef0a2",
   "metadata": {},
   "outputs": [],
   "source": []
  },
  {
   "cell_type": "code",
   "execution_count": null,
   "id": "9898680c",
   "metadata": {},
   "outputs": [],
   "source": []
  },
  {
   "cell_type": "markdown",
   "id": "68add7b7",
   "metadata": {},
   "source": [
    "### Special numpy functions\n",
    "\n",
    "Interpolation, histograms, random numbers"
   ]
  },
  {
   "cell_type": "code",
   "execution_count": null,
   "id": "f809c195",
   "metadata": {},
   "outputs": [],
   "source": []
  },
  {
   "cell_type": "code",
   "execution_count": null,
   "id": "9d5c3280",
   "metadata": {},
   "outputs": [],
   "source": []
  },
  {
   "cell_type": "code",
   "execution_count": null,
   "id": "10746361",
   "metadata": {},
   "outputs": [],
   "source": []
  },
  {
   "cell_type": "markdown",
   "id": "cb3d9338",
   "metadata": {},
   "source": [
    "### Numpy documentation"
   ]
  },
  {
   "cell_type": "code",
   "execution_count": null,
   "id": "9bd8c402",
   "metadata": {},
   "outputs": [],
   "source": []
  },
  {
   "cell_type": "code",
   "execution_count": null,
   "id": "43988087",
   "metadata": {},
   "outputs": [],
   "source": []
  },
  {
   "cell_type": "code",
   "execution_count": null,
   "id": "56c4b6b6",
   "metadata": {},
   "outputs": [],
   "source": []
  },
  {
   "cell_type": "markdown",
   "id": "90d85aab",
   "metadata": {},
   "source": [
    "## For loops and other iteratables"
   ]
  },
  {
   "cell_type": "code",
   "execution_count": null,
   "id": "70ff9c38",
   "metadata": {},
   "outputs": [],
   "source": []
  },
  {
   "cell_type": "code",
   "execution_count": null,
   "id": "25c1503d",
   "metadata": {},
   "outputs": [],
   "source": []
  },
  {
   "cell_type": "code",
   "execution_count": null,
   "id": "99c9019c",
   "metadata": {},
   "outputs": [],
   "source": []
  },
  {
   "cell_type": "markdown",
   "id": "49e6e9df",
   "metadata": {},
   "source": [
    "## Defining functions + Docstrings!"
   ]
  },
  {
   "cell_type": "code",
   "execution_count": null,
   "id": "36a7c11d",
   "metadata": {},
   "outputs": [],
   "source": []
  },
  {
   "cell_type": "code",
   "execution_count": null,
   "id": "15f802c8",
   "metadata": {},
   "outputs": [],
   "source": []
  },
  {
   "cell_type": "code",
   "execution_count": null,
   "id": "fea48cb6",
   "metadata": {},
   "outputs": [],
   "source": []
  },
  {
   "cell_type": "code",
   "execution_count": null,
   "id": "e01d36c7",
   "metadata": {},
   "outputs": [],
   "source": []
  },
  {
   "cell_type": "markdown",
   "id": "9c580407",
   "metadata": {},
   "source": [
    "# Scripting in Python"
   ]
  },
  {
   "cell_type": "code",
   "execution_count": null,
   "id": "44479311",
   "metadata": {},
   "outputs": [],
   "source": []
  }
 ],
 "metadata": {
  "kernelspec": {
   "display_name": "Python 3 (ipykernel)",
   "language": "python",
   "name": "python3"
  },
  "language_info": {
   "codemirror_mode": {
    "name": "ipython",
    "version": 3
   },
   "file_extension": ".py",
   "mimetype": "text/x-python",
   "name": "python",
   "nbconvert_exporter": "python",
   "pygments_lexer": "ipython3",
   "version": "3.11.0"
  }
 },
 "nbformat": 4,
 "nbformat_minor": 5
}
